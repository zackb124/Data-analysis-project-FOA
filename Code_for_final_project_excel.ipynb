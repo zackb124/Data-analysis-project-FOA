{
 "cells": [
  {
   "cell_type": "code",
   "execution_count": 20,
   "metadata": {
    "colab": {
     "base_uri": "https://localhost:8080/",
     "height": 89,
     "resources": {
      "http://localhost:8080/nbextensions/google.colab/files.js": {
       "data": "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",
       "headers": [
        [
         "content-type",
         "application/javascript"
        ]
       ],
       "ok": true,
       "status": 200,
       "status_text": ""
      }
     }
    },
    "executionInfo": {
     "elapsed": 12423,
     "status": "ok",
     "timestamp": 1636727582838,
     "user": {
      "displayName": "Yzhak Bakshi",
      "photoUrl": "https://lh3.googleusercontent.com/a/default-user=s64",
      "userId": "00749914597825425916"
     },
     "user_tz": -120
    },
    "id": "GuMF5u8ccr2c",
    "outputId": "b74308c3-e836-4c2d-ab6b-963fd6e5b22a"
   },
   "outputs": [],
   "source": [
    "import pandas as pd\n",
    "import io\n",
    "#Dependencies\n",
    "import gensim #the library for Topic modelling\n",
    "from gensim.models.ldamulticore import LdaMulticore\n",
    "from gensim import corpora, models\n",
    "\n",
    "from nltk.corpus import stopwords\n",
    "import string\n",
    "from nltk.stem.wordnet import WordNetLemmatizer\n",
    "\n",
    "import warnings\n",
    "warnings.simplefilter('ignore')\n",
    "from itertools import chain\n",
    "\n",
    "\n",
    "#123\n",
    "\n",
    "df=pd.read_excel('Example for data base.xlsx')\n"
   ]
  },
  {
   "cell_type": "code",
   "execution_count": 2,
   "metadata": {
    "colab": {
     "base_uri": "https://localhost:8080/",
     "height": 1000
    },
    "executionInfo": {
     "elapsed": 319,
     "status": "ok",
     "timestamp": 1636727908528,
     "user": {
      "displayName": "Yzhak Bakshi",
      "photoUrl": "https://lh3.googleusercontent.com/a/default-user=s64",
      "userId": "00749914597825425916"
     },
     "user_tz": -120
    },
    "id": "-7pEdzH31cck",
    "outputId": "893e17b4-ae67-4f8a-c0bd-24a7d21007ca"
   },
   "outputs": [],
   "source": [
    "df=df.replace({'Category' : { 'Y' : \"Antisemitic\", 'W' : \"Non-Antisemitic\", 'U' : \"Anti-Zionist\" }})"
   ]
  },
  {
   "cell_type": "code",
   "execution_count": 3,
   "metadata": {
    "executionInfo": {
     "elapsed": 339,
     "status": "ok",
     "timestamp": 1636728515084,
     "user": {
      "displayName": "Yzhak Bakshi",
      "photoUrl": "https://lh3.googleusercontent.com/a/default-user=s64",
      "userId": "00749914597825425916"
     },
     "user_tz": -120
    },
    "id": "s9QNVe-ClhqA"
   },
   "outputs": [],
   "source": [
    "df = df.replace(r'\\n',' ', regex=True) \n",
    "\n",
    "post_description=df[\"A short summary of the content- write briefly in your own words\"]\n"
   ]
  },
  {
   "cell_type": "code",
   "execution_count": 4,
   "metadata": {},
   "outputs": [
    {
     "data": {
      "text/html": [
       "<div>\n",
       "<style scoped>\n",
       "    .dataframe tbody tr th:only-of-type {\n",
       "        vertical-align: middle;\n",
       "    }\n",
       "\n",
       "    .dataframe tbody tr th {\n",
       "        vertical-align: top;\n",
       "    }\n",
       "\n",
       "    .dataframe thead th {\n",
       "        text-align: right;\n",
       "    }\n",
       "</style>\n",
       "<table border=\"1\" class=\"dataframe\">\n",
       "  <thead>\n",
       "    <tr style=\"text-align: right;\">\n",
       "      <th></th>\n",
       "      <th>Category</th>\n",
       "      <th>Removed</th>\n",
       "      <th>Removed 1</th>\n",
       "      <th>חותמת זמן</th>\n",
       "      <th>First name</th>\n",
       "      <th>Last (family) name</th>\n",
       "      <th>Platform</th>\n",
       "      <th>Language of the post: if none of these options fit, please choose \"Other\". Then remember to complete the next question.</th>\n",
       "      <th>Content Link</th>\n",
       "      <th>Other language?  Please specify below.</th>\n",
       "      <th>Reported?</th>\n",
       "      <th>Please upload a screenshot of the content</th>\n",
       "      <th>A short summary of the content- write briefly in your own words</th>\n",
       "      <th>Email address</th>\n",
       "      <th>Country where content published</th>\n",
       "      <th>Age of user</th>\n",
       "    </tr>\n",
       "  </thead>\n",
       "  <tbody>\n",
       "    <tr>\n",
       "      <th>0</th>\n",
       "      <td>Antisemitic</td>\n",
       "      <td>X</td>\n",
       "      <td>X</td>\n",
       "      <td>2021-07-01 20:39:51</td>\n",
       "      <td>Ronit</td>\n",
       "      <td>Litmanowicz</td>\n",
       "      <td>Instagram</td>\n",
       "      <td>Spanish</td>\n",
       "      <td>https://www.instagram.com/p/B1-E4_RBJqO/?utm_s...</td>\n",
       "      <td>NaN</td>\n",
       "      <td>Yes</td>\n",
       "      <td>https://drive.google.com/open?id=1mNM7Rz3RUwVa...</td>\n",
       "      <td>#Genocidal Israel</td>\n",
       "      <td>ronitlitma@gmail.com</td>\n",
       "      <td>NaN</td>\n",
       "      <td>NaN</td>\n",
       "    </tr>\n",
       "    <tr>\n",
       "      <th>1</th>\n",
       "      <td>Non-Antisemitic</td>\n",
       "      <td>X</td>\n",
       "      <td>X</td>\n",
       "      <td>2021-07-01 20:42:35</td>\n",
       "      <td>Ronit</td>\n",
       "      <td>Litmanowicz</td>\n",
       "      <td>Instagram</td>\n",
       "      <td>Spanish</td>\n",
       "      <td>https://www.instagram.com/p/BsD1HF-hhKg/?utm_s...</td>\n",
       "      <td>NaN</td>\n",
       "      <td>Yes</td>\n",
       "      <td>https://drive.google.com/open?id=1aTADJkaDrb66...</td>\n",
       "      <td>#Genocidal Israel  a picture of Binyamin Netan...</td>\n",
       "      <td>ronitlitma@gmail.com</td>\n",
       "      <td>NaN</td>\n",
       "      <td>NaN</td>\n",
       "    </tr>\n",
       "    <tr>\n",
       "      <th>2</th>\n",
       "      <td>Anti-Zionist</td>\n",
       "      <td>X</td>\n",
       "      <td>X</td>\n",
       "      <td>2021-08-01 02:43:41</td>\n",
       "      <td>Daria</td>\n",
       "      <td>Kazakova</td>\n",
       "      <td>Twitter</td>\n",
       "      <td>English</td>\n",
       "      <td>https://twitter.com/BegomSahanara/status/12848...</td>\n",
       "      <td>NaN</td>\n",
       "      <td>Yes</td>\n",
       "      <td>https://drive.google.com/open?id=1tLBfvLYcLonl...</td>\n",
       "      <td>denying Israel's right for a country, encourag...</td>\n",
       "      <td>daria140795@gmail.com</td>\n",
       "      <td>NaN</td>\n",
       "      <td>NaN</td>\n",
       "    </tr>\n",
       "  </tbody>\n",
       "</table>\n",
       "</div>"
      ],
      "text/plain": [
       "          Category Removed Removed 1            חותמת זמן First name  \\\n",
       "0      Antisemitic       X         X  2021-07-01 20:39:51      Ronit   \n",
       "1  Non-Antisemitic       X         X  2021-07-01 20:42:35      Ronit   \n",
       "2     Anti-Zionist       X         X  2021-08-01 02:43:41      Daria   \n",
       "\n",
       "  Last (family) name   Platform  \\\n",
       "0        Litmanowicz  Instagram   \n",
       "1        Litmanowicz  Instagram   \n",
       "2           Kazakova    Twitter   \n",
       "\n",
       "  Language of the post: if none of these options fit, please choose \"Other\". Then remember to complete the next question.  \\\n",
       "0                                            Spanish                                                                        \n",
       "1                                            Spanish                                                                        \n",
       "2                                            English                                                                        \n",
       "\n",
       "                                        Content Link  \\\n",
       "0  https://www.instagram.com/p/B1-E4_RBJqO/?utm_s...   \n",
       "1  https://www.instagram.com/p/BsD1HF-hhKg/?utm_s...   \n",
       "2  https://twitter.com/BegomSahanara/status/12848...   \n",
       "\n",
       "  Other language?  Please specify below. Reported?  \\\n",
       "0                                    NaN       Yes   \n",
       "1                                    NaN       Yes   \n",
       "2                                    NaN       Yes   \n",
       "\n",
       "           Please upload a screenshot of the content  \\\n",
       "0  https://drive.google.com/open?id=1mNM7Rz3RUwVa...   \n",
       "1  https://drive.google.com/open?id=1aTADJkaDrb66...   \n",
       "2  https://drive.google.com/open?id=1tLBfvLYcLonl...   \n",
       "\n",
       "  A short summary of the content- write briefly in your own words  \\\n",
       "0                                 #Genocidal Israel                 \n",
       "1  #Genocidal Israel  a picture of Binyamin Netan...                \n",
       "2  denying Israel's right for a country, encourag...                \n",
       "\n",
       "           Email address Country where content published Age of user  \n",
       "0   ronitlitma@gmail.com                             NaN         NaN  \n",
       "1   ronitlitma@gmail.com                             NaN         NaN  \n",
       "2  daria140795@gmail.com                             NaN         NaN  "
      ]
     },
     "execution_count": 4,
     "metadata": {},
     "output_type": "execute_result"
    }
   ],
   "source": [
    "df.head(3)"
   ]
  },
  {
   "cell_type": "code",
   "execution_count": 5,
   "metadata": {
    "executionInfo": {
     "elapsed": 412,
     "status": "ok",
     "timestamp": 1636728671039,
     "user": {
      "displayName": "Yzhak Bakshi",
      "photoUrl": "https://lh3.googleusercontent.com/a/default-user=s64",
      "userId": "00749914597825425916"
     },
     "user_tz": -120
    },
    "id": "uqZuOZ99liZJ"
   },
   "outputs": [
    {
     "data": {
      "text/html": [
       "<div>\n",
       "<style scoped>\n",
       "    .dataframe tbody tr th:only-of-type {\n",
       "        vertical-align: middle;\n",
       "    }\n",
       "\n",
       "    .dataframe tbody tr th {\n",
       "        vertical-align: top;\n",
       "    }\n",
       "\n",
       "    .dataframe thead th {\n",
       "        text-align: right;\n",
       "    }\n",
       "</style>\n",
       "<table border=\"1\" class=\"dataframe\">\n",
       "  <thead>\n",
       "    <tr style=\"text-align: right;\">\n",
       "      <th></th>\n",
       "      <th>Category</th>\n",
       "      <th>Removed</th>\n",
       "      <th>Removed 1</th>\n",
       "      <th>Time stamp</th>\n",
       "      <th>First name</th>\n",
       "      <th>Last (family) name</th>\n",
       "      <th>Platform</th>\n",
       "      <th>Language of the post: if none of these options fit, please choose \"Other\". Then remember to complete the next question.</th>\n",
       "      <th>Content Link</th>\n",
       "      <th>Other language?  Please specify below.</th>\n",
       "      <th>Reported?</th>\n",
       "      <th>Please upload a screenshot of the content</th>\n",
       "      <th>A short summary of the content- write briefly in your own words</th>\n",
       "      <th>Email address</th>\n",
       "      <th>Country where content published</th>\n",
       "      <th>Age of user</th>\n",
       "    </tr>\n",
       "  </thead>\n",
       "  <tbody>\n",
       "    <tr>\n",
       "      <th>0</th>\n",
       "      <td>Antisemitic</td>\n",
       "      <td>X</td>\n",
       "      <td>X</td>\n",
       "      <td>2021-07-01 20:39:51</td>\n",
       "      <td>Ronit</td>\n",
       "      <td>Litmanowicz</td>\n",
       "      <td>Instagram</td>\n",
       "      <td>Spanish</td>\n",
       "      <td>https://www.instagram.com/p/B1-E4_RBJqO/?utm_s...</td>\n",
       "      <td>NaN</td>\n",
       "      <td>Yes</td>\n",
       "      <td>https://drive.google.com/open?id=1mNM7Rz3RUwVa...</td>\n",
       "      <td>#Genocidal Israel</td>\n",
       "      <td>ronitlitma@gmail.com</td>\n",
       "      <td>NaN</td>\n",
       "      <td>NaN</td>\n",
       "    </tr>\n",
       "    <tr>\n",
       "      <th>1</th>\n",
       "      <td>Non-Antisemitic</td>\n",
       "      <td>X</td>\n",
       "      <td>X</td>\n",
       "      <td>2021-07-01 20:42:35</td>\n",
       "      <td>Ronit</td>\n",
       "      <td>Litmanowicz</td>\n",
       "      <td>Instagram</td>\n",
       "      <td>Spanish</td>\n",
       "      <td>https://www.instagram.com/p/BsD1HF-hhKg/?utm_s...</td>\n",
       "      <td>NaN</td>\n",
       "      <td>Yes</td>\n",
       "      <td>https://drive.google.com/open?id=1aTADJkaDrb66...</td>\n",
       "      <td>#Genocidal Israel  a picture of Binyamin Netan...</td>\n",
       "      <td>ronitlitma@gmail.com</td>\n",
       "      <td>NaN</td>\n",
       "      <td>NaN</td>\n",
       "    </tr>\n",
       "    <tr>\n",
       "      <th>2</th>\n",
       "      <td>Anti-Zionist</td>\n",
       "      <td>X</td>\n",
       "      <td>X</td>\n",
       "      <td>2021-08-01 02:43:41</td>\n",
       "      <td>Daria</td>\n",
       "      <td>Kazakova</td>\n",
       "      <td>Twitter</td>\n",
       "      <td>English</td>\n",
       "      <td>https://twitter.com/BegomSahanara/status/12848...</td>\n",
       "      <td>NaN</td>\n",
       "      <td>Yes</td>\n",
       "      <td>https://drive.google.com/open?id=1tLBfvLYcLonl...</td>\n",
       "      <td>denying Israel's right for a country, encourag...</td>\n",
       "      <td>daria140795@gmail.com</td>\n",
       "      <td>NaN</td>\n",
       "      <td>NaN</td>\n",
       "    </tr>\n",
       "    <tr>\n",
       "      <th>3</th>\n",
       "      <td>Antisemitic</td>\n",
       "      <td>X</td>\n",
       "      <td>X</td>\n",
       "      <td>2021-08-01 02:50:24</td>\n",
       "      <td>Daria</td>\n",
       "      <td>Kazakova</td>\n",
       "      <td>Twitter</td>\n",
       "      <td>English</td>\n",
       "      <td>https://twitter.com/MOHD_RAEES786/status/12849...</td>\n",
       "      <td>NaN</td>\n",
       "      <td>Yes</td>\n",
       "      <td>https://drive.google.com/open?id=1cSe4RpgBe_oN...</td>\n",
       "      <td>encourage to delete Israel from the map denyin...</td>\n",
       "      <td>daria140795@gmail.com</td>\n",
       "      <td>NaN</td>\n",
       "      <td>NaN</td>\n",
       "    </tr>\n",
       "    <tr>\n",
       "      <th>4</th>\n",
       "      <td>Antisemitic</td>\n",
       "      <td>X</td>\n",
       "      <td>X</td>\n",
       "      <td>2021-08-01 03:12:23</td>\n",
       "      <td>Daria</td>\n",
       "      <td>Kazakova</td>\n",
       "      <td>Twitter</td>\n",
       "      <td>English</td>\n",
       "      <td>https://twitter.com/LailaPalestini1/status/134...</td>\n",
       "      <td>NaN</td>\n",
       "      <td>Yes</td>\n",
       "      <td>https://drive.google.com/open?id=12SOC5at301hX...</td>\n",
       "      <td>lies about Israel for hate speech</td>\n",
       "      <td>daria140795@gmail.com</td>\n",
       "      <td>NaN</td>\n",
       "      <td>NaN</td>\n",
       "    </tr>\n",
       "    <tr>\n",
       "      <th>...</th>\n",
       "      <td>...</td>\n",
       "      <td>...</td>\n",
       "      <td>...</td>\n",
       "      <td>...</td>\n",
       "      <td>...</td>\n",
       "      <td>...</td>\n",
       "      <td>...</td>\n",
       "      <td>...</td>\n",
       "      <td>...</td>\n",
       "      <td>...</td>\n",
       "      <td>...</td>\n",
       "      <td>...</td>\n",
       "      <td>...</td>\n",
       "      <td>...</td>\n",
       "      <td>...</td>\n",
       "      <td>...</td>\n",
       "    </tr>\n",
       "    <tr>\n",
       "      <th>296</th>\n",
       "      <td>NaN</td>\n",
       "      <td>X</td>\n",
       "      <td>X</td>\n",
       "      <td>16/02/2021 12:19:04</td>\n",
       "      <td>מאור</td>\n",
       "      <td>קרופרו</td>\n",
       "      <td>Facebook</td>\n",
       "      <td>English</td>\n",
       "      <td>https://www.facebook.com/lilly.torre</td>\n",
       "      <td>ערבית</td>\n",
       "      <td>Yes</td>\n",
       "      <td>https://drive.google.com/open?id=1fEeTCK9ewhsJ...</td>\n",
       "      <td>אישה שמעלה סרטונים נגד מדינת ישראל</td>\n",
       "      <td>maur.krupru@gmail.com</td>\n",
       "      <td>European Union</td>\n",
       "      <td>NaN</td>\n",
       "    </tr>\n",
       "    <tr>\n",
       "      <th>297</th>\n",
       "      <td>NaN</td>\n",
       "      <td>X</td>\n",
       "      <td>X</td>\n",
       "      <td>16/02/2021 12:28:20</td>\n",
       "      <td>מאור</td>\n",
       "      <td>קרופרו</td>\n",
       "      <td>Facebook</td>\n",
       "      <td>English</td>\n",
       "      <td>https://www.facebook.com/amer.mansour.319</td>\n",
       "      <td>ערבית</td>\n",
       "      <td>Yes</td>\n",
       "      <td>https://drive.google.com/open?id=1kRLhxSyaPi4k...</td>\n",
       "      <td>פיסבוק של אדם ששונא ישראל ומעלה לשם תמונות אנט...</td>\n",
       "      <td>maur.krupru@gmail.com</td>\n",
       "      <td>European Union</td>\n",
       "      <td>NaN</td>\n",
       "    </tr>\n",
       "    <tr>\n",
       "      <th>298</th>\n",
       "      <td>Antisemitic</td>\n",
       "      <td>X</td>\n",
       "      <td>X</td>\n",
       "      <td>16/02/2021 12:35:55</td>\n",
       "      <td>ayana</td>\n",
       "      <td>bibiyan</td>\n",
       "      <td>YouTube</td>\n",
       "      <td>Russian</td>\n",
       "      <td>https://www.youtube.com/watch?v=BWIa5PP7Nqc&amp;t=...</td>\n",
       "      <td>NaN</td>\n",
       "      <td>Yes</td>\n",
       "      <td>https://drive.google.com/open?id=1uJpU7wfRS5h2...</td>\n",
       "      <td>A video against Zionist Jews</td>\n",
       "      <td>ayanabibiyan@gmail.com</td>\n",
       "      <td>Unknown</td>\n",
       "      <td>NaN</td>\n",
       "    </tr>\n",
       "    <tr>\n",
       "      <th>299</th>\n",
       "      <td>Antisemitic</td>\n",
       "      <td>X</td>\n",
       "      <td>X</td>\n",
       "      <td>16/02/2021 18:42:42</td>\n",
       "      <td>Ronit</td>\n",
       "      <td>Litmanowicz</td>\n",
       "      <td>YouTube</td>\n",
       "      <td>Spanish</td>\n",
       "      <td>https://www.youtube.com/watch?v=yD5etBsBKkc&amp;ab...</td>\n",
       "      <td>NaN</td>\n",
       "      <td>Yes</td>\n",
       "      <td>https://drive.google.com/open?id=1NsRJ7Hau_fx4...</td>\n",
       "      <td>\"Zionism is the most monstrous face of humanit...</td>\n",
       "      <td>ronitlitma@gmail.com</td>\n",
       "      <td>Latin America (For example: Brazil, Argentina.,,)</td>\n",
       "      <td>NaN</td>\n",
       "    </tr>\n",
       "    <tr>\n",
       "      <th>300</th>\n",
       "      <td>Antisemitic</td>\n",
       "      <td>V</td>\n",
       "      <td>NaN</td>\n",
       "      <td>16/02/2021 18:56:47</td>\n",
       "      <td>Ronit</td>\n",
       "      <td>Litmanowicz</td>\n",
       "      <td>YouTube</td>\n",
       "      <td>Spanish</td>\n",
       "      <td>https://www.youtube.com/watch?v=Cyt3Sx1loSQ&amp;ab...</td>\n",
       "      <td>NaN</td>\n",
       "      <td>Yes</td>\n",
       "      <td>https://drive.google.com/open?id=1qR_Azdj73Arb...</td>\n",
       "      <td>nazi zionism</td>\n",
       "      <td>ronitlitma@gmail.com</td>\n",
       "      <td>Latin America (For example: Brazil, Argentina.,,)</td>\n",
       "      <td>NaN</td>\n",
       "    </tr>\n",
       "  </tbody>\n",
       "</table>\n",
       "<p>301 rows × 16 columns</p>\n",
       "</div>"
      ],
      "text/plain": [
       "            Category Removed Removed 1           Time stamp First name  \\\n",
       "0        Antisemitic       X         X  2021-07-01 20:39:51      Ronit   \n",
       "1    Non-Antisemitic       X         X  2021-07-01 20:42:35      Ronit   \n",
       "2       Anti-Zionist       X         X  2021-08-01 02:43:41      Daria   \n",
       "3        Antisemitic       X         X  2021-08-01 02:50:24      Daria   \n",
       "4        Antisemitic       X         X  2021-08-01 03:12:23      Daria   \n",
       "..               ...     ...       ...                  ...        ...   \n",
       "296              NaN       X         X  16/02/2021 12:19:04       מאור   \n",
       "297              NaN       X         X  16/02/2021 12:28:20       מאור   \n",
       "298      Antisemitic       X         X  16/02/2021 12:35:55      ayana   \n",
       "299      Antisemitic       X         X  16/02/2021 18:42:42      Ronit   \n",
       "300      Antisemitic       V       NaN  16/02/2021 18:56:47      Ronit   \n",
       "\n",
       "    Last (family) name   Platform  \\\n",
       "0          Litmanowicz  Instagram   \n",
       "1          Litmanowicz  Instagram   \n",
       "2             Kazakova    Twitter   \n",
       "3             Kazakova    Twitter   \n",
       "4             Kazakova    Twitter   \n",
       "..                 ...        ...   \n",
       "296             קרופרו   Facebook   \n",
       "297             קרופרו   Facebook   \n",
       "298            bibiyan    YouTube   \n",
       "299        Litmanowicz    YouTube   \n",
       "300        Litmanowicz    YouTube   \n",
       "\n",
       "    Language of the post: if none of these options fit, please choose \"Other\". Then remember to complete the next question.  \\\n",
       "0                                              Spanish                                                                        \n",
       "1                                              Spanish                                                                        \n",
       "2                                              English                                                                        \n",
       "3                                              English                                                                        \n",
       "4                                              English                                                                        \n",
       "..                                                 ...                                                                        \n",
       "296                                            English                                                                        \n",
       "297                                            English                                                                        \n",
       "298                                            Russian                                                                        \n",
       "299                                            Spanish                                                                        \n",
       "300                                            Spanish                                                                        \n",
       "\n",
       "                                          Content Link  \\\n",
       "0    https://www.instagram.com/p/B1-E4_RBJqO/?utm_s...   \n",
       "1    https://www.instagram.com/p/BsD1HF-hhKg/?utm_s...   \n",
       "2    https://twitter.com/BegomSahanara/status/12848...   \n",
       "3    https://twitter.com/MOHD_RAEES786/status/12849...   \n",
       "4    https://twitter.com/LailaPalestini1/status/134...   \n",
       "..                                                 ...   \n",
       "296               https://www.facebook.com/lilly.torre   \n",
       "297          https://www.facebook.com/amer.mansour.319   \n",
       "298  https://www.youtube.com/watch?v=BWIa5PP7Nqc&t=...   \n",
       "299  https://www.youtube.com/watch?v=yD5etBsBKkc&ab...   \n",
       "300  https://www.youtube.com/watch?v=Cyt3Sx1loSQ&ab...   \n",
       "\n",
       "    Other language?  Please specify below. Reported?  \\\n",
       "0                                      NaN       Yes   \n",
       "1                                      NaN       Yes   \n",
       "2                                      NaN       Yes   \n",
       "3                                      NaN       Yes   \n",
       "4                                      NaN       Yes   \n",
       "..                                     ...       ...   \n",
       "296                                  ערבית       Yes   \n",
       "297                                  ערבית       Yes   \n",
       "298                                    NaN       Yes   \n",
       "299                                    NaN       Yes   \n",
       "300                                    NaN       Yes   \n",
       "\n",
       "             Please upload a screenshot of the content  \\\n",
       "0    https://drive.google.com/open?id=1mNM7Rz3RUwVa...   \n",
       "1    https://drive.google.com/open?id=1aTADJkaDrb66...   \n",
       "2    https://drive.google.com/open?id=1tLBfvLYcLonl...   \n",
       "3    https://drive.google.com/open?id=1cSe4RpgBe_oN...   \n",
       "4    https://drive.google.com/open?id=12SOC5at301hX...   \n",
       "..                                                 ...   \n",
       "296  https://drive.google.com/open?id=1fEeTCK9ewhsJ...   \n",
       "297  https://drive.google.com/open?id=1kRLhxSyaPi4k...   \n",
       "298  https://drive.google.com/open?id=1uJpU7wfRS5h2...   \n",
       "299  https://drive.google.com/open?id=1NsRJ7Hau_fx4...   \n",
       "300  https://drive.google.com/open?id=1qR_Azdj73Arb...   \n",
       "\n",
       "    A short summary of the content- write briefly in your own words  \\\n",
       "0                                   #Genocidal Israel                 \n",
       "1    #Genocidal Israel  a picture of Binyamin Netan...                \n",
       "2    denying Israel's right for a country, encourag...                \n",
       "3    encourage to delete Israel from the map denyin...                \n",
       "4                    lies about Israel for hate speech                \n",
       "..                                                 ...                \n",
       "296                 אישה שמעלה סרטונים נגד מדינת ישראל                \n",
       "297  פיסבוק של אדם ששונא ישראל ומעלה לשם תמונות אנט...                \n",
       "298                       A video against Zionist Jews                \n",
       "299  \"Zionism is the most monstrous face of humanit...                \n",
       "300                                       nazi zionism                \n",
       "\n",
       "              Email address  \\\n",
       "0      ronitlitma@gmail.com   \n",
       "1      ronitlitma@gmail.com   \n",
       "2     daria140795@gmail.com   \n",
       "3     daria140795@gmail.com   \n",
       "4     daria140795@gmail.com   \n",
       "..                      ...   \n",
       "296   maur.krupru@gmail.com   \n",
       "297   maur.krupru@gmail.com   \n",
       "298  ayanabibiyan@gmail.com   \n",
       "299    ronitlitma@gmail.com   \n",
       "300    ronitlitma@gmail.com   \n",
       "\n",
       "                       Country where content published Age of user  \n",
       "0                                                  NaN         NaN  \n",
       "1                                                  NaN         NaN  \n",
       "2                                                  NaN         NaN  \n",
       "3                                                  NaN         NaN  \n",
       "4                                                  NaN         NaN  \n",
       "..                                                 ...         ...  \n",
       "296                                     European Union         NaN  \n",
       "297                                     European Union         NaN  \n",
       "298                                            Unknown         NaN  \n",
       "299  Latin America (For example: Brazil, Argentina.,,)         NaN  \n",
       "300  Latin America (For example: Brazil, Argentina.,,)         NaN  \n",
       "\n",
       "[301 rows x 16 columns]"
      ]
     },
     "execution_count": 5,
     "metadata": {},
     "output_type": "execute_result"
    }
   ],
   "source": [
    "df = df.rename(columns={\"חותמת זמן\":\"Time stamp\"})\n",
    "df"
   ]
  },
  {
   "cell_type": "code",
   "execution_count": 6,
   "metadata": {},
   "outputs": [],
   "source": [
    "from datetime import datetime\n",
    "df['Time stamp'] = pd.to_datetime(df['Time stamp'], errors='coerce') #This function convert the date text into dt.date type\n"
   ]
  },
  {
   "cell_type": "code",
   "execution_count": 7,
   "metadata": {},
   "outputs": [
    {
     "data": {
      "text/plain": [
       "<AxesSubplot:title={'center':'Grouping posts count by social media platform since 2021-07-01'}>"
      ]
     },
     "execution_count": 7,
     "metadata": {},
     "output_type": "execute_result"
    },
    {
     "data": {
      "image/png": "[encoded data removed]",
      "text/plain": [
       "<Figure size 432x288 with 1 Axes>"
      ]
     },
     "metadata": {
      "needs_background": "light"
     },
     "output_type": "display_data"
    }
   ],
   "source": [
    "user_input = \"2021-07-01\"\n",
    "the_user_target_date = df[\"Time stamp\"]>user_input\n",
    "new_df = df[the_user_target_date]\n",
    "new_df[\"Platform\"].value_counts().plot(kind=\"bar\",color=['black', 'red', 'green', 'blue', 'cyan'],title = \"Grouping posts count by social media platform since\" + \" \" + user_input)"
   ]
  },
  {
   "cell_type": "code",
   "execution_count": 8,
   "metadata": {
    "colab": {
     "base_uri": "https://localhost:8080/"
    },
    "executionInfo": {
     "elapsed": 287,
     "status": "ok",
     "timestamp": 1636728989096,
     "user": {
      "displayName": "Yzhak Bakshi",
      "photoUrl": "https://lh3.googleusercontent.com/a/default-user=s64",
      "userId": "00749914597825425916"
     },
     "user_tz": -120
    },
    "id": "kuBkj411liaI",
    "outputId": "9835ce88-97eb-4403-a693-d5c700981e9d"
   },
   "outputs": [],
   "source": [
    "import matplotlib.pyplot as plt\n"
   ]
  },
  {
   "cell_type": "code",
   "execution_count": 9,
   "metadata": {},
   "outputs": [],
   "source": [
    "list = [\"Anti-Zionist\",\n",
    "\"Antisemitic\",\n",
    "\"Non-Antisemitic\"]\n",
    "\n",
    "df = df.loc[df['Category'] .isin(list)]\n",
    "#This line is keeping rows which have one of the categories\n"
   ]
  },
  {
   "cell_type": "code",
   "execution_count": 10,
   "metadata": {},
   "outputs": [
    {
     "data": {
      "text/plain": [
       "<AxesSubplot:ylabel='Platform'>"
      ]
     },
     "execution_count": 10,
     "metadata": {},
     "output_type": "execute_result"
    },
    {
     "data": {
      "image/png": "[encoded data removed]",
      "text/plain": [
       "<Figure size 432x288 with 1 Axes>"
      ]
     },
     "metadata": {
      "needs_background": "light"
     },
     "output_type": "display_data"
    }
   ],
   "source": [
    "\n",
    "df_group_=df.groupby(['Category', 'Platform'])['Platform'].count().unstack('Category').fillna(0).astype(int)\n",
    "df_group_.plot(kind='barh', stacked=True,mark_right = True )\n",
    "\n",
    "\n"
   ]
  },
  {
   "cell_type": "code",
   "execution_count": 11,
   "metadata": {
    "id": "IFttftNkj2QZ"
   },
   "outputs": [],
   "source": [
    "#נתונים על הסרת התכנים- לפי סוג תוכן (כמה מכל סוג תוכן הוסרו וכמה נשארו)"
   ]
  },
  {
   "cell_type": "code",
   "execution_count": 12,
   "metadata": {},
   "outputs": [
    {
     "data": {
      "text/html": [
       "<div>\n",
       "<style scoped>\n",
       "    .dataframe tbody tr th:only-of-type {\n",
       "        vertical-align: middle;\n",
       "    }\n",
       "\n",
       "    .dataframe tbody tr th {\n",
       "        vertical-align: top;\n",
       "    }\n",
       "\n",
       "    .dataframe thead th {\n",
       "        text-align: right;\n",
       "    }\n",
       "</style>\n",
       "<table border=\"1\" class=\"dataframe\">\n",
       "  <thead>\n",
       "    <tr style=\"text-align: right;\">\n",
       "      <th></th>\n",
       "      <th>Removed</th>\n",
       "      <th>Removed 1</th>\n",
       "    </tr>\n",
       "    <tr>\n",
       "      <th>Category</th>\n",
       "      <th></th>\n",
       "      <th></th>\n",
       "    </tr>\n",
       "  </thead>\n",
       "  <tbody>\n",
       "    <tr>\n",
       "      <th>Anti-Zionist</th>\n",
       "      <td>16</td>\n",
       "      <td>14</td>\n",
       "    </tr>\n",
       "    <tr>\n",
       "      <th>Antisemitic</th>\n",
       "      <td>159</td>\n",
       "      <td>147</td>\n",
       "    </tr>\n",
       "    <tr>\n",
       "      <th>Non-Antisemitic</th>\n",
       "      <td>77</td>\n",
       "      <td>68</td>\n",
       "    </tr>\n",
       "  </tbody>\n",
       "</table>\n",
       "</div>"
      ],
      "text/plain": [
       "                 Removed  Removed 1\n",
       "Category                           \n",
       "Anti-Zionist          16         14\n",
       "Antisemitic          159        147\n",
       "Non-Antisemitic       77         68"
      ]
     },
     "execution_count": 12,
     "metadata": {},
     "output_type": "execute_result"
    }
   ],
   "source": [
    "category = df[\"Category\"]\n",
    "df.groupby(['Category']).count()\n",
    "\n",
    "g= df.groupby(['Category'])[\"Removed\",\"Removed 1\"]\n",
    "\n",
    "g.count()\n"
   ]
  },
  {
   "cell_type": "code",
   "execution_count": 13,
   "metadata": {},
   "outputs": [],
   "source": [
    "removed_1st = df[\"Removed\"]==\"V\"\n",
    "removed_2nd = df[\"Removed 1\"]==\"V\"\n",
    "\n"
   ]
  },
  {
   "cell_type": "code",
   "execution_count": null,
   "metadata": {},
   "outputs": [],
   "source": []
  },
  {
   "cell_type": "code",
   "execution_count": 14,
   "metadata": {},
   "outputs": [
    {
     "data": {
      "text/plain": [
       "Category                                                                                                                   114\n",
       "Removed                                                                                                                    114\n",
       "Removed 1                                                                                                                  114\n",
       "Time stamp                                                                                                                 114\n",
       "First name                                                                                                                 114\n",
       "Last (family) name                                                                                                         114\n",
       "Platform                                                                                                                   114\n",
       "Language of the post: if none of these options fit, please choose \"Other\". Then remember to complete the next question.    114\n",
       "Content Link                                                                                                               114\n",
       "Other language?  Please specify below.                                                                                       1\n",
       "Reported?                                                                                                                  114\n",
       "Please upload a screenshot of the content                                                                                  114\n",
       "A short summary of the content- write briefly in your own words                                                            114\n",
       "Email address                                                                                                              114\n",
       "Country where content published                                                                                             33\n",
       "Age of user                                                                                                                  6\n",
       "dtype: int64"
      ]
     },
     "execution_count": 14,
     "metadata": {},
     "output_type": "execute_result"
    }
   ],
   "source": [
    "s = df.groupby(['Category',\"Removed 1\"])\n",
    "s.get_group((\"Antisemitic\", \"X\" )).count()"
   ]
  },
  {
   "cell_type": "code",
   "execution_count": null,
   "metadata": {},
   "outputs": [],
   "source": []
  },
  {
   "cell_type": "code",
   "execution_count": 15,
   "metadata": {
    "id": "weHbSXpjj2dJ"
   },
   "outputs": [],
   "source": [
    "#אחוזים לפי כל רשת חברתית - כמה תכנים הוסרו מול כמה נשארו\n"
   ]
  },
  {
   "cell_type": "markdown",
   "metadata": {},
   "source": [
    "#Key words in removed content (only)"
   ]
  },
  {
   "cell_type": "code",
   "execution_count": 16,
   "metadata": {
    "id": "LqR2hN9Oj2gY"
   },
   "outputs": [
    {
     "name": "stdout",
     "output_type": "stream",
     "text": [
      "22\n",
      "56\n"
     ]
    }
   ],
   "source": [
    "removed_1st = df[\"Removed\"]==\"V\"\n",
    "removed_2nd = df[\"Removed 1\"]==\"V\"\n",
    "\n",
    "content_description = df[\"A short summary of the content- write briefly in your own words\"]\n",
    "\n",
    "print(content_description[removed_1st].count())\n",
    "print(content_description[removed_2nd].count())"
   ]
  },
  {
   "cell_type": "code",
   "execution_count": 17,
   "metadata": {},
   "outputs": [],
   "source": [
    "#Tokenization process - \n",
    "#1. Translate all words, in any languge - to English\n",
    "#2. Exclude Stop Words\n",
    "#3. Lowercasing\n",
    "#4. Identifaing n-grams\n",
    "#5. Deal with hashtags\n",
    "#6. Word frequency - think about how to deal with terms which appear multiple times via the text"
   ]
  }
 ],
 "metadata": {
  "colab": {
   "authorship_tag": "ABX9TyORyOIsMUUQZaq6nKgEiI05",
   "mount_file_id": "19OkiW4PWYWLjvDKQR65je-eY8Kw1J7oF",
   "name": "Code_for_final_project_excel.ipynb",
   "provenance": []
  },
  "kernelspec": {
   "display_name": "Python 3",
   "language": "python",
   "name": "python3"
  },
  "language_info": {
   "codemirror_mode": {
    "name": "ipython",
    "version": 3
   },
   "file_extension": ".py",
   "mimetype": "text/x-python",
   "name": "python",
   "nbconvert_exporter": "python",
   "pygments_lexer": "ipython3",
   "version": "3.8.8"
  }
 },
 "nbformat": 4,
 "nbformat_minor": 4
}
