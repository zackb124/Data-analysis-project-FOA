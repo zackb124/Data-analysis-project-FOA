{
 "cells": [
  {
   "cell_type": "code",
   "execution_count": 1,
   "metadata": {
    "colab": {
     "base_uri": "https://localhost:8080/",
     "height": 89,
     "resources": {
      "http://localhost:8080/nbextensions/google.colab/files.js": {
       "data": "Ly8gQ29weXJpZ2h0IDIwMTcgR29vZ2xlIExMQwovLwovLyBMaWNlbnNlZCB1bmRlciB0aGUgQXBhY2hlIExpY2Vuc2UsIFZlcnNpb24gMi4wICh0aGUgIkxpY2Vuc2UiKTsKLy8geW91IG1heSBub3QgdXNlIHRoaXMgZmlsZSBleGNlcHQgaW4gY29tcGxpYW5jZSB3aXRoIHRoZSBMaWNlbnNlLgovLyBZb3UgbWF5IG9idGFpbiBhIGNvcHkgb2YgdGhlIExpY2Vuc2UgYXQKLy8KLy8gICAgICBodHRwOi8vd3d3LmFwYWNoZS5vcmcvbGljZW5zZXMvTElDRU5TRS0yLjAKLy8KLy8gVW5sZXNzIHJlcXVpcmVkIGJ5IGFwcGxpY2FibGUgbGF3IG9yIGFncmVlZCB0byBpbiB3cml0aW5nLCBzb2Z0d2FyZQovLyBkaXN0cmlidXRlZCB1bmRlciB0aGUgTGljZW5zZSBpcyBkaXN0cmlidXRlZCBvbiBhbiAiQVMgSVMiIEJBU0lTLAovLyBXSVRIT1VUIFdBUlJBTlRJRVMgT1IgQ09ORElUSU9OUyBPRiBBTlkgS0lORCwgZWl0aGVyIGV4cHJlc3Mgb3IgaW1wbGllZC4KLy8gU2VlIHRoZSBMaWNlbnNlIGZvciB0aGUgc3BlY2lmaWMgbGFuZ3VhZ2UgZ292ZXJuaW5nIHBlcm1pc3Npb25zIGFuZAovLyBsaW1pdGF0aW9ucyB1bmRlciB0aGUgTGljZW5zZS4KCi8qKgogKiBAZmlsZW92ZXJ2aWV3IEhlbHBlcnMgZm9yIGdvb2dsZS5jb2xhYiBQeXRob24gbW9kdWxlLgogKi8KKGZ1bmN0aW9uKHNjb3BlKSB7CmZ1bmN0aW9uIHNwYW4odGV4dCwgc3R5bGVBdHRyaWJ1dGVzID0ge30pIHsKICBjb25zdCBlbGVtZW50ID0gZG9jdW1lbnQuY3JlYXRlRWxlbWVudCgnc3BhbicpOwogIGVsZW1lbnQudGV4dENvbnRlbnQgPSB0ZXh0OwogIGZvciAoY29uc3Qga2V5IG9mIE9iamVjdC5rZXlzKHN0eWxlQXR0cmlidXRlcykpIHsKICAgIGVsZW1lbnQuc3R5bGVba2V5XSA9IHN0eWxlQXR0cmlidXRlc1trZXldOwogIH0KICByZXR1cm4gZWxlbWVudDsKfQoKLy8gTWF4IG51bWJlciBvZiBieXRlcyB3aGljaCB3aWxsIGJlIHVwbG9hZGVkIGF0IGEgdGltZS4KY29uc3QgTUFYX1BBWUxPQURfU0laRSA9IDEwMCAqIDEwMjQ7CgpmdW5jdGlvbiBfdXBsb2FkRmlsZXMoaW5wdXRJZCwgb3V0cHV0SWQpIHsKICBjb25zdCBzdGVwcyA9IHVwbG9hZEZpbGVzU3RlcChpbnB1dElkLCBvdXRwdXRJZCk7CiAgY29uc3Qgb3V0cHV0RWxlbWVudCA9IGRvY3VtZW50LmdldEVsZW1lbnRCeUlkKG91dHB1dElkKTsKICAvLyBDYWNoZSBzdGVwcyBvbiB0aGUgb3V0cHV0RWxlbWVudCB0byBtYWtlIGl0IGF2YWlsYWJsZSBmb3IgdGhlIG5leHQgY2FsbAogIC8vIHRvIHVwbG9hZEZpbGVzQ29udGludWUgZnJvbSBQeXRob24uCiAgb3V0cHV0RWxlbWVudC5zdGVwcyA9IHN0ZXBzOwoKICByZXR1cm4gX3VwbG9hZEZpbGVzQ29udGludWUob3V0cHV0SWQpOwp9CgovLyBUaGlzIGlzIHJvdWdobHkgYW4gYXN5bmMgZ2VuZXJhdG9yIChub3Qgc3VwcG9ydGVkIGluIHRoZSBicm93c2VyIHlldCksCi8vIHdoZXJlIHRoZXJlIGFyZSBtdWx0aXBsZSBhc3luY2hyb25vdXMgc3RlcHMgYW5kIHRoZSBQeXRob24gc2lkZSBpcyBnb2luZwovLyB0byBwb2xsIGZvciBjb21wbGV0aW9uIG9mIGVhY2ggc3RlcC4KLy8gVGhpcyB1c2VzIGEgUHJvbWlzZSB0byBibG9jayB0aGUgcHl0aG9uIHNpZGUgb24gY29tcGxldGlvbiBvZiBlYWNoIHN0ZXAsCi8vIHRoZW4gcGFzc2VzIHRoZSByZXN1bHQgb2YgdGhlIHByZXZpb3VzIHN0ZXAgYXMgdGhlIGlucHV0IHRvIHRoZSBuZXh0IHN0ZXAuCmZ1bmN0aW9uIF91cGxvYWRGaWxlc0NvbnRpbnVlKG91dHB1dElkKSB7CiAgY29uc3Qgb3V0cHV0RWxlbWVudCA9IGRvY3VtZW50LmdldEVsZW1lbnRCeUlkKG91dHB1dElkKTsKICBjb25zdCBzdGVwcyA9IG91dHB1dEVsZW1lbnQuc3RlcHM7CgogIGNvbnN0IG5leHQgPSBzdGVwcy5uZXh0KG91dHB1dEVsZW1lbnQubGFzdFByb21pc2VWYWx1ZSk7CiAgcmV0dXJuIFByb21pc2UucmVzb2x2ZShuZXh0LnZhbHVlLnByb21pc2UpLnRoZW4oKHZhbHVlKSA9PiB7CiAgICAvLyBDYWNoZSB0aGUgbGFzdCBwcm9taXNlIHZhbHVlIHRvIG1ha2UgaXQgYXZhaWxhYmxlIHRvIHRoZSBuZXh0CiAgICAvLyBzdGVwIG9mIHRoZSBnZW5lcmF0b3IuCiAgICBvdXRwdXRFbGVtZW50Lmxhc3RQcm9taXNlVmFsdWUgPSB2YWx1ZTsKICAgIHJldHVybiBuZXh0LnZhbHVlLnJlc3BvbnNlOwogIH0pOwp9CgovKioKICogR2VuZXJhdG9yIGZ1bmN0aW9uIHdoaWNoIGlzIGNhbGxlZCBiZXR3ZWVuIGVhY2ggYXN5bmMgc3RlcCBvZiB0aGUgdXBsb2FkCiAqIHByb2Nlc3MuCiAqIEBwYXJhbSB7c3RyaW5nfSBpbnB1dElkIEVsZW1lbnQgSUQgb2YgdGhlIGlucHV0IGZpbGUgcGlja2VyIGVsZW1lbnQuCiAqIEBwYXJhbSB7c3RyaW5nfSBvdXRwdXRJZCBFbGVtZW50IElEIG9mIHRoZSBvdXRwdXQgZGlzcGxheS4KICogQHJldHVybiB7IUl0ZXJhYmxlPCFPYmplY3Q+fSBJdGVyYWJsZSBvZiBuZXh0IHN0ZXBzLgogKi8KZnVuY3Rpb24qIHVwbG9hZEZpbGVzU3RlcChpbnB1dElkLCBvdXRwdXRJZCkgewogIGNvbnN0IGlucHV0RWxlbWVudCA9IGRvY3VtZW50LmdldEVsZW1lbnRCeUlkKGlucHV0SWQpOwogIGlucHV0RWxlbWVudC5kaXNhYmxlZCA9IGZhbHNlOwoKICBjb25zdCBvdXRwdXRFbGVtZW50ID0gZG9jdW1lbnQuZ2V0RWxlbWVudEJ5SWQob3V0cHV0SWQpOwogIG91dHB1dEVsZW1lbnQuaW5uZXJIVE1MID0gJyc7CgogIGNvbnN0IHBpY2tlZFByb21pc2UgPSBuZXcgUHJvbWlzZSgocmVzb2x2ZSkgPT4gewogICAgaW5wdXRFbGVtZW50LmFkZEV2ZW50TGlzdGVuZXIoJ2NoYW5nZScsIChlKSA9PiB7CiAgICAgIHJlc29sdmUoZS50YXJnZXQuZmlsZXMpOwogICAgfSk7CiAgfSk7CgogIGNvbnN0IGNhbmNlbCA9IGRvY3VtZW50LmNyZWF0ZUVsZW1lbnQoJ2J1dHRvbicpOwogIGlucHV0RWxlbWVudC5wYXJlbnRFbGVtZW50LmFwcGVuZENoaWxkKGNhbmNlbCk7CiAgY2FuY2VsLnRleHRDb250ZW50ID0gJ0NhbmNlbCB1cGxvYWQnOwogIGNvbnN0IGNhbmNlbFByb21pc2UgPSBuZXcgUHJvbWlzZSgocmVzb2x2ZSkgPT4gewogICAgY2FuY2VsLm9uY2xpY2sgPSAoKSA9PiB7CiAgICAgIHJlc29sdmUobnVsbCk7CiAgICB9OwogIH0pOwoKICAvLyBXYWl0IGZvciB0aGUgdXNlciB0byBwaWNrIHRoZSBmaWxlcy4KICBjb25zdCBmaWxlcyA9IHlpZWxkIHsKICAgIHByb21pc2U6IFByb21pc2UucmFjZShbcGlja2VkUHJvbWlzZSwgY2FuY2VsUHJvbWlzZV0pLAogICAgcmVzcG9uc2U6IHsKICAgICAgYWN0aW9uOiAnc3RhcnRpbmcnLAogICAgfQogIH07CgogIGNhbmNlbC5yZW1vdmUoKTsKCiAgLy8gRGlzYWJsZSB0aGUgaW5wdXQgZWxlbWVudCBzaW5jZSBmdXJ0aGVyIHBpY2tzIGFyZSBub3QgYWxsb3dlZC4KICBpbnB1dEVsZW1lbnQuZGlzYWJsZWQgPSB0cnVlOwoKICBpZiAoIWZpbGVzKSB7CiAgICByZXR1cm4gewogICAgICByZXNwb25zZTogewogICAgICAgIGFjdGlvbjogJ2NvbXBsZXRlJywKICAgICAgfQogICAgfTsKICB9CgogIGZvciAoY29uc3QgZmlsZSBvZiBmaWxlcykgewogICAgY29uc3QgbGkgPSBkb2N1bWVudC5jcmVhdGVFbGVtZW50KCdsaScpOwogICAgbGkuYXBwZW5kKHNwYW4oZmlsZS5uYW1lLCB7Zm9udFdlaWdodDogJ2JvbGQnfSkpOwogICAgbGkuYXBwZW5kKHNwYW4oCiAgICAgICAgYCgke2ZpbGUudHlwZSB8fCAnbi9hJ30pIC0gJHtmaWxlLnNpemV9IGJ5dGVzLCBgICsKICAgICAgICBgbGFzdCBtb2RpZmllZDogJHsKICAgICAgICAgICAgZmlsZS5sYXN0TW9kaWZpZWREYXRlID8gZmlsZS5sYXN0TW9kaWZpZWREYXRlLnRvTG9jYWxlRGF0ZVN0cmluZygpIDoKICAgICAgICAgICAgICAgICAgICAgICAgICAgICAgICAgICAgJ24vYSd9IC0gYCkpOwogICAgY29uc3QgcGVyY2VudCA9IHNwYW4oJzAlIGRvbmUnKTsKICAgIGxpLmFwcGVuZENoaWxkKHBlcmNlbnQpOwoKICAgIG91dHB1dEVsZW1lbnQuYXBwZW5kQ2hpbGQobGkpOwoKICAgIGNvbnN0IGZpbGVEYXRhUHJvbWlzZSA9IG5ldyBQcm9taXNlKChyZXNvbHZlKSA9PiB7CiAgICAgIGNvbnN0IHJlYWRlciA9IG5ldyBGaWxlUmVhZGVyKCk7CiAgICAgIHJlYWRlci5vbmxvYWQgPSAoZSkgPT4gewogICAgICAgIHJlc29sdmUoZS50YXJnZXQucmVzdWx0KTsKICAgICAgfTsKICAgICAgcmVhZGVyLnJlYWRBc0FycmF5QnVmZmVyKGZpbGUpOwogICAgfSk7CiAgICAvLyBXYWl0IGZvciB0aGUgZGF0YSB0byBiZSByZWFkeS4KICAgIGxldCBmaWxlRGF0YSA9IHlpZWxkIHsKICAgICAgcHJvbWlzZTogZmlsZURhdGFQcm9taXNlLAogICAgICByZXNwb25zZTogewogICAgICAgIGFjdGlvbjogJ2NvbnRpbnVlJywKICAgICAgfQogICAgfTsKCiAgICAvLyBVc2UgYSBjaHVua2VkIHNlbmRpbmcgdG8gYXZvaWQgbWVzc2FnZSBzaXplIGxpbWl0cy4gU2VlIGIvNjIxMTU2NjAuCiAgICBsZXQgcG9zaXRpb24gPSAwOwogICAgZG8gewogICAgICBjb25zdCBsZW5ndGggPSBNYXRoLm1pbihmaWxlRGF0YS5ieXRlTGVuZ3RoIC0gcG9zaXRpb24sIE1BWF9QQVlMT0FEX1NJWkUpOwogICAgICBjb25zdCBjaHVuayA9IG5ldyBVaW50OEFycmF5KGZpbGVEYXRhLCBwb3NpdGlvbiwgbGVuZ3RoKTsKICAgICAgcG9zaXRpb24gKz0gbGVuZ3RoOwoKICAgICAgY29uc3QgYmFzZTY0ID0gYnRvYShTdHJpbmcuZnJvbUNoYXJDb2RlLmFwcGx5KG51bGwsIGNodW5rKSk7CiAgICAgIHlpZWxkIHsKICAgICAgICByZXNwb25zZTogewogICAgICAgICAgYWN0aW9uOiAnYXBwZW5kJywKICAgICAgICAgIGZpbGU6IGZpbGUubmFtZSwKICAgICAgICAgIGRhdGE6IGJhc2U2NCwKICAgICAgICB9LAogICAgICB9OwoKICAgICAgbGV0IHBlcmNlbnREb25lID0gZmlsZURhdGEuYnl0ZUxlbmd0aCA9PT0gMCA/CiAgICAgICAgICAxMDAgOgogICAgICAgICAgTWF0aC5yb3VuZCgocG9zaXRpb24gLyBmaWxlRGF0YS5ieXRlTGVuZ3RoKSAqIDEwMCk7CiAgICAgIHBlcmNlbnQudGV4dENvbnRlbnQgPSBgJHtwZXJjZW50RG9uZX0lIGRvbmVgOwoKICAgIH0gd2hpbGUgKHBvc2l0aW9uIDwgZmlsZURhdGEuYnl0ZUxlbmd0aCk7CiAgfQoKICAvLyBBbGwgZG9uZS4KICB5aWVsZCB7CiAgICByZXNwb25zZTogewogICAgICBhY3Rpb246ICdjb21wbGV0ZScsCiAgICB9CiAgfTsKfQoKc2NvcGUuZ29vZ2xlID0gc2NvcGUuZ29vZ2xlIHx8IHt9OwpzY29wZS5nb29nbGUuY29sYWIgPSBzY29wZS5nb29nbGUuY29sYWIgfHwge307CnNjb3BlLmdvb2dsZS5jb2xhYi5fZmlsZXMgPSB7CiAgX3VwbG9hZEZpbGVzLAogIF91cGxvYWRGaWxlc0NvbnRpbnVlLAp9Owp9KShzZWxmKTsK",
       "headers": [
        [
         "content-type",
         "application/javascript"
        ]
       ],
       "ok": true,
       "status": 200,
       "status_text": ""
      }
     }
    },
    "executionInfo": {
     "elapsed": 12423,
     "status": "ok",
     "timestamp": 1636727582838,
     "user": {
      "displayName": "Yzhak Bakshi",
      "photoUrl": "https://lh3.googleusercontent.com/a/default-user=s64",
      "userId": "00749914597825425916"
     },
     "user_tz": -120
    },
    "id": "GuMF5u8ccr2c",
    "outputId": "b74308c3-e836-4c2d-ab6b-963fd6e5b22a"
   },
   "outputs": [],
   "source": [
    "import pandas as pd\n",
    "import matplotlib.pyplot as plt\n",
    "\n",
    "%matplotlib inline\n",
    "import dataframe_image as dfi\n",
    "#Dependencies\n",
    "import gensim #the library for Topic modelling\n",
    "from gensim.models.ldamulticore import LdaMulticore\n",
    "from gensim import corpora, models\n",
    "\n",
    "from nltk.corpus import stopwords\n",
    "import string\n",
    "from nltk.stem.wordnet import WordNetLemmatizer\n",
    "\n",
    "import warnings\n",
    "warnings.simplefilter('ignore')\n",
    "from itertools import chain\n",
    "\n",
    "\n",
    "#123\n",
    "user_file = \"C:\\\\Users\\\\zachi\\\\Desktop\\\\final_project_22\\\\data_nov_21.xlsx\"\n",
    "df=pd.read_excel(user_file)\n"
   ]
  },
  {
   "cell_type": "code",
   "execution_count": 2,
   "metadata": {},
   "outputs": [
    {
     "data": {
      "text/html": [
       "<div>\n",
       "<style scoped>\n",
       "    .dataframe tbody tr th:only-of-type {\n",
       "        vertical-align: middle;\n",
       "    }\n",
       "\n",
       "    .dataframe tbody tr th {\n",
       "        vertical-align: top;\n",
       "    }\n",
       "\n",
       "    .dataframe thead th {\n",
       "        text-align: right;\n",
       "    }\n",
       "</style>\n",
       "<table border=\"1\" class=\"dataframe\">\n",
       "  <thead>\n",
       "    <tr style=\"text-align: right;\">\n",
       "      <th></th>\n",
       "      <th>Category</th>\n",
       "      <th>Removed</th>\n",
       "      <th>חותמת זמן</th>\n",
       "      <th>First name</th>\n",
       "      <th>Last (family) name</th>\n",
       "      <th>Platform</th>\n",
       "      <th>Language</th>\n",
       "      <th>Content Link</th>\n",
       "      <th>Other language?  Please specify below.</th>\n",
       "      <th>Reported?</th>\n",
       "      <th>Please upload a screenshot of the content</th>\n",
       "      <th>A short summary of the content- write briefly in your own words</th>\n",
       "      <th>Email address</th>\n",
       "      <th>Country where content published</th>\n",
       "      <th>Age of user</th>\n",
       "    </tr>\n",
       "  </thead>\n",
       "  <tbody>\n",
       "    <tr>\n",
       "      <th>0</th>\n",
       "      <td>Y</td>\n",
       "      <td>Not Removed</td>\n",
       "      <td>2021-10-30 00:29:11.303</td>\n",
       "      <td>polly</td>\n",
       "      <td>golod</td>\n",
       "      <td>Twitter</td>\n",
       "      <td>Russian</td>\n",
       "      <td>https://twitter.com/V_Makvik/status/1450042686...</td>\n",
       "      <td>NaN</td>\n",
       "      <td>Yes</td>\n",
       "      <td>https://drive.google.com/open?id=1syl-cJGE0bO9...</td>\n",
       "      <td>holocaust denial</td>\n",
       "      <td>golodpolina98@gmail.com</td>\n",
       "      <td>Russia</td>\n",
       "      <td>NaN</td>\n",
       "    </tr>\n",
       "    <tr>\n",
       "      <th>1</th>\n",
       "      <td>Y</td>\n",
       "      <td>Not Removed</td>\n",
       "      <td>2021-10-30 00:32:57.780</td>\n",
       "      <td>polly</td>\n",
       "      <td>golod</td>\n",
       "      <td>Twitter</td>\n",
       "      <td>Russian</td>\n",
       "      <td>https://twitter.com/neuroserge/status/14471302...</td>\n",
       "      <td>NaN</td>\n",
       "      <td>Yes</td>\n",
       "      <td>https://drive.google.com/open?id=1ao8XZuPaGLbw...</td>\n",
       "      <td>saying that the holocaust wouldnt happen if th...</td>\n",
       "      <td>golodpolina98@gmail.com</td>\n",
       "      <td>Russia</td>\n",
       "      <td>NaN</td>\n",
       "    </tr>\n",
       "    <tr>\n",
       "      <th>2</th>\n",
       "      <td>Y</td>\n",
       "      <td>Not Removed</td>\n",
       "      <td>2021-10-30 00:41:00.432</td>\n",
       "      <td>polly</td>\n",
       "      <td>golod</td>\n",
       "      <td>Twitter</td>\n",
       "      <td>Russian</td>\n",
       "      <td>https://twitter.com/5TDkjZlhlPqB6zc/status/144...</td>\n",
       "      <td>NaN</td>\n",
       "      <td>Yes</td>\n",
       "      <td>https://drive.google.com/open?id=1iL4zm6BUEJpf...</td>\n",
       "      <td>holocaust denial</td>\n",
       "      <td>golodpolina98@gmail.com</td>\n",
       "      <td>Russia</td>\n",
       "      <td>NaN</td>\n",
       "    </tr>\n",
       "    <tr>\n",
       "      <th>3</th>\n",
       "      <td>Y</td>\n",
       "      <td>Not Removed</td>\n",
       "      <td>2021-10-30 00:51:42.384</td>\n",
       "      <td>polly</td>\n",
       "      <td>golod</td>\n",
       "      <td>Twitter</td>\n",
       "      <td>Russian</td>\n",
       "      <td>https://twitter.com/PolskaSotnja/status/143959...</td>\n",
       "      <td>NaN</td>\n",
       "      <td>Yes</td>\n",
       "      <td>https://drive.google.com/open?id=1vpXv7HZKHIDP...</td>\n",
       "      <td>saying that there was no Holocaust and that it...</td>\n",
       "      <td>golodpolina98@gmail.com</td>\n",
       "      <td>Russia</td>\n",
       "      <td>NaN</td>\n",
       "    </tr>\n",
       "    <tr>\n",
       "      <th>4</th>\n",
       "      <td>Y</td>\n",
       "      <td>Not Removed</td>\n",
       "      <td>2021-10-30 01:02:50.037</td>\n",
       "      <td>Irena</td>\n",
       "      <td>Kalika</td>\n",
       "      <td>VK</td>\n",
       "      <td>Russian</td>\n",
       "      <td>https://vk.com/wall503758057_10269</td>\n",
       "      <td>NaN</td>\n",
       "      <td>Yes</td>\n",
       "      <td>https://drive.google.com/open?id=1XnaJsHX8eZPK...</td>\n",
       "      <td>Saying jews are demons</td>\n",
       "      <td>irakalika85@gmail.com</td>\n",
       "      <td>Russia</td>\n",
       "      <td>NaN</td>\n",
       "    </tr>\n",
       "    <tr>\n",
       "      <th>...</th>\n",
       "      <td>...</td>\n",
       "      <td>...</td>\n",
       "      <td>...</td>\n",
       "      <td>...</td>\n",
       "      <td>...</td>\n",
       "      <td>...</td>\n",
       "      <td>...</td>\n",
       "      <td>...</td>\n",
       "      <td>...</td>\n",
       "      <td>...</td>\n",
       "      <td>...</td>\n",
       "      <td>...</td>\n",
       "      <td>...</td>\n",
       "      <td>...</td>\n",
       "      <td>...</td>\n",
       "    </tr>\n",
       "    <tr>\n",
       "      <th>305</th>\n",
       "      <td>Y</td>\n",
       "      <td>Not Removed</td>\n",
       "      <td>2021-11-30 11:06:54.863</td>\n",
       "      <td>Liam</td>\n",
       "      <td>Menache</td>\n",
       "      <td>Twitter</td>\n",
       "      <td>English</td>\n",
       "      <td>https://twitter.com/Frontlet_615/status/144970...</td>\n",
       "      <td>French and Dutch</td>\n",
       "      <td>NaN</td>\n",
       "      <td>https://drive.google.com/open?id=1f9WNsyE6fxGw...</td>\n",
       "      <td>User claims a quote by a rabbi that the jews w...</td>\n",
       "      <td>liam8110@gmail.com</td>\n",
       "      <td>European Union</td>\n",
       "      <td>NaN</td>\n",
       "    </tr>\n",
       "    <tr>\n",
       "      <th>306</th>\n",
       "      <td>Y</td>\n",
       "      <td>Not Removed</td>\n",
       "      <td>2021-11-30 11:25:35.082</td>\n",
       "      <td>Liam</td>\n",
       "      <td>Menache</td>\n",
       "      <td>Twitter</td>\n",
       "      <td>English</td>\n",
       "      <td>https://twitter.com/EmpyUnplugged/status/14276...</td>\n",
       "      <td>NaN</td>\n",
       "      <td>NaN</td>\n",
       "      <td>https://drive.google.com/open?id=1eF-_3YcYwPFC...</td>\n",
       "      <td>Says that other than the \"holohaux\" which is h...</td>\n",
       "      <td>liam8110@gmail.com</td>\n",
       "      <td>United Kingdom</td>\n",
       "      <td>NaN</td>\n",
       "    </tr>\n",
       "    <tr>\n",
       "      <th>307</th>\n",
       "      <td>Y</td>\n",
       "      <td>Not Removed</td>\n",
       "      <td>2021-11-30 22:02:31.805</td>\n",
       "      <td>Irena</td>\n",
       "      <td>Kalika</td>\n",
       "      <td>Twitter</td>\n",
       "      <td>English</td>\n",
       "      <td>https://twitter.com/being_khan1010/status/1301...</td>\n",
       "      <td>NaN</td>\n",
       "      <td>NaN</td>\n",
       "      <td>https://drive.google.com/open?id=1ahaRnRopBHQw...</td>\n",
       "      <td>Claiming that us trying to make Muslims inferi...</td>\n",
       "      <td>irakalika85@gmail.com</td>\n",
       "      <td>Asia (for example: Pakistan, India...)</td>\n",
       "      <td>NaN</td>\n",
       "    </tr>\n",
       "    <tr>\n",
       "      <th>308</th>\n",
       "      <td>Y</td>\n",
       "      <td>Not Removed</td>\n",
       "      <td>2021-11-30 22:15:38.247</td>\n",
       "      <td>Irena</td>\n",
       "      <td>Kalika</td>\n",
       "      <td>Twitter</td>\n",
       "      <td>English</td>\n",
       "      <td>https://twitter.com/miraquib0072/status/139237...</td>\n",
       "      <td>NaN</td>\n",
       "      <td>NaN</td>\n",
       "      <td>https://drive.google.com/open?id=1oTmP02zaBsk0...</td>\n",
       "      <td>Promote Natzism and genocide of jews. #killjews</td>\n",
       "      <td>irakalika85@gmail.com</td>\n",
       "      <td>Unknown</td>\n",
       "      <td>NaN</td>\n",
       "    </tr>\n",
       "    <tr>\n",
       "      <th>309</th>\n",
       "      <td>Y</td>\n",
       "      <td>Not Removed</td>\n",
       "      <td>2021-11-30 23:04:35.875</td>\n",
       "      <td>Irena</td>\n",
       "      <td>Kalika</td>\n",
       "      <td>Twitter</td>\n",
       "      <td>Russian</td>\n",
       "      <td>https://twitter.com/kosmo2213/status/108292324...</td>\n",
       "      <td>NaN</td>\n",
       "      <td>NaN</td>\n",
       "      <td>https://drive.google.com/open?id=1eBYbOYTPeEdi...</td>\n",
       "      <td>Accusing jews in genocide of indians in America</td>\n",
       "      <td>irakalika85@gmail.com</td>\n",
       "      <td>Unknown</td>\n",
       "      <td>NaN</td>\n",
       "    </tr>\n",
       "  </tbody>\n",
       "</table>\n",
       "<p>310 rows × 15 columns</p>\n",
       "</div>"
      ],
      "text/plain": [
       "    Category      Removed               חותמת זמן First name  \\\n",
       "0          Y  Not Removed 2021-10-30 00:29:11.303      polly   \n",
       "1          Y  Not Removed 2021-10-30 00:32:57.780      polly   \n",
       "2          Y  Not Removed 2021-10-30 00:41:00.432      polly   \n",
       "3          Y  Not Removed 2021-10-30 00:51:42.384      polly   \n",
       "4          Y  Not Removed 2021-10-30 01:02:50.037      Irena   \n",
       "..       ...          ...                     ...        ...   \n",
       "305        Y  Not Removed 2021-11-30 11:06:54.863       Liam   \n",
       "306        Y  Not Removed 2021-11-30 11:25:35.082       Liam   \n",
       "307        Y  Not Removed 2021-11-30 22:02:31.805      Irena   \n",
       "308        Y  Not Removed 2021-11-30 22:15:38.247      Irena   \n",
       "309        Y  Not Removed 2021-11-30 23:04:35.875      Irena   \n",
       "\n",
       "    Last (family) name Platform Language  \\\n",
       "0                golod  Twitter  Russian   \n",
       "1                golod  Twitter  Russian   \n",
       "2                golod  Twitter  Russian   \n",
       "3                golod  Twitter  Russian   \n",
       "4               Kalika       VK  Russian   \n",
       "..                 ...      ...      ...   \n",
       "305            Menache  Twitter  English   \n",
       "306            Menache  Twitter  English   \n",
       "307             Kalika  Twitter  English   \n",
       "308             Kalika  Twitter  English   \n",
       "309             Kalika  Twitter  Russian   \n",
       "\n",
       "                                         Content Link   \\\n",
       "0    https://twitter.com/V_Makvik/status/1450042686...   \n",
       "1    https://twitter.com/neuroserge/status/14471302...   \n",
       "2    https://twitter.com/5TDkjZlhlPqB6zc/status/144...   \n",
       "3    https://twitter.com/PolskaSotnja/status/143959...   \n",
       "4                   https://vk.com/wall503758057_10269   \n",
       "..                                                 ...   \n",
       "305  https://twitter.com/Frontlet_615/status/144970...   \n",
       "306  https://twitter.com/EmpyUnplugged/status/14276...   \n",
       "307  https://twitter.com/being_khan1010/status/1301...   \n",
       "308  https://twitter.com/miraquib0072/status/139237...   \n",
       "309  https://twitter.com/kosmo2213/status/108292324...   \n",
       "\n",
       "    Other language?  Please specify below. Reported?  \\\n",
       "0                                      NaN       Yes   \n",
       "1                                      NaN       Yes   \n",
       "2                                      NaN       Yes   \n",
       "3                                      NaN       Yes   \n",
       "4                                      NaN       Yes   \n",
       "..                                     ...       ...   \n",
       "305                       French and Dutch       NaN   \n",
       "306                                    NaN       NaN   \n",
       "307                                    NaN       NaN   \n",
       "308                                    NaN       NaN   \n",
       "309                                    NaN       NaN   \n",
       "\n",
       "             Please upload a screenshot of the content  \\\n",
       "0    https://drive.google.com/open?id=1syl-cJGE0bO9...   \n",
       "1    https://drive.google.com/open?id=1ao8XZuPaGLbw...   \n",
       "2    https://drive.google.com/open?id=1iL4zm6BUEJpf...   \n",
       "3    https://drive.google.com/open?id=1vpXv7HZKHIDP...   \n",
       "4    https://drive.google.com/open?id=1XnaJsHX8eZPK...   \n",
       "..                                                 ...   \n",
       "305  https://drive.google.com/open?id=1f9WNsyE6fxGw...   \n",
       "306  https://drive.google.com/open?id=1eF-_3YcYwPFC...   \n",
       "307  https://drive.google.com/open?id=1ahaRnRopBHQw...   \n",
       "308  https://drive.google.com/open?id=1oTmP02zaBsk0...   \n",
       "309  https://drive.google.com/open?id=1eBYbOYTPeEdi...   \n",
       "\n",
       "    A short summary of the content- write briefly in your own words   \\\n",
       "0                                     holocaust denial                 \n",
       "1    saying that the holocaust wouldnt happen if th...                 \n",
       "2                                     holocaust denial                 \n",
       "3    saying that there was no Holocaust and that it...                 \n",
       "4                              Saying jews are demons                  \n",
       "..                                                 ...                 \n",
       "305  User claims a quote by a rabbi that the jews w...                 \n",
       "306  Says that other than the \"holohaux\" which is h...                 \n",
       "307  Claiming that us trying to make Muslims inferi...                 \n",
       "308    Promote Natzism and genocide of jews. #killjews                 \n",
       "309    Accusing jews in genocide of indians in America                 \n",
       "\n",
       "               Email address         Country where content published  \\\n",
       "0    golodpolina98@gmail.com                                  Russia   \n",
       "1    golodpolina98@gmail.com                                  Russia   \n",
       "2    golodpolina98@gmail.com                                  Russia   \n",
       "3    golodpolina98@gmail.com                                  Russia   \n",
       "4      irakalika85@gmail.com                                  Russia   \n",
       "..                       ...                                     ...   \n",
       "305       liam8110@gmail.com                          European Union   \n",
       "306       liam8110@gmail.com                          United Kingdom   \n",
       "307    irakalika85@gmail.com  Asia (for example: Pakistan, India...)   \n",
       "308    irakalika85@gmail.com                                 Unknown   \n",
       "309    irakalika85@gmail.com                                 Unknown   \n",
       "\n",
       "     Age of user  \n",
       "0            NaN  \n",
       "1            NaN  \n",
       "2            NaN  \n",
       "3            NaN  \n",
       "4            NaN  \n",
       "..           ...  \n",
       "305          NaN  \n",
       "306          NaN  \n",
       "307          NaN  \n",
       "308          NaN  \n",
       "309          NaN  \n",
       "\n",
       "[310 rows x 15 columns]"
      ]
     },
     "execution_count": 2,
     "metadata": {},
     "output_type": "execute_result"
    }
   ],
   "source": [
    "#remove column - \"removed 1\"\n",
    "\n",
    "df.drop(columns=['Removed 1'],inplace=False)"
   ]
  },
  {
   "cell_type": "code",
   "execution_count": 3,
   "metadata": {},
   "outputs": [],
   "source": [
    "#make category easier to understand \n",
    "\n",
    "df=df.replace({'Category' : { 'Y' : \"Antisemitic\", 'W' : \"Non-Antisemitic\", 'U' : \"Anti-Zionist\" }})\n"
   ]
  },
  {
   "cell_type": "code",
   "execution_count": 4,
   "metadata": {},
   "outputs": [],
   "source": [
    "#convert \"time stamp\" to english\n",
    "\n",
    "df = df.rename(columns={\"חותמת זמן\":\"Time stamp\"})\n"
   ]
  },
  {
   "cell_type": "code",
   "execution_count": 5,
   "metadata": {},
   "outputs": [],
   "source": [
    "#df.columns"
   ]
  },
  {
   "cell_type": "code",
   "execution_count": 6,
   "metadata": {
    "executionInfo": {
     "elapsed": 339,
     "status": "ok",
     "timestamp": 1636728515084,
     "user": {
      "displayName": "Yzhak Bakshi",
      "photoUrl": "https://lh3.googleusercontent.com/a/default-user=s64",
      "userId": "00749914597825425916"
     },
     "user_tz": -120
    },
    "id": "s9QNVe-ClhqA"
   },
   "outputs": [],
   "source": [
    "#fix summary column texts\n",
    "\n",
    "df = df.replace(r'\\n',' ', regex=True) \n",
    "\n",
    "post_description=df[\"A short summary of the content- write briefly in your own words \"]\n"
   ]
  },
  {
   "cell_type": "code",
   "execution_count": 7,
   "metadata": {},
   "outputs": [],
   "source": [
    "#change the date time to the d/m/y\n",
    "\n",
    "from datetime import datetime\n",
    "df['Time stamp'] = pd.to_datetime(df['Time stamp'], errors='coerce') #This function convert the date text into dt.date type\n"
   ]
  },
  {
   "cell_type": "markdown",
   "metadata": {},
   "source": [
    "תכנים לפי רשת - גרף עמודות ויזואלי לניטור התכנים לפי רשתות ולפי תקופה"
   ]
  },
  {
   "cell_type": "code",
   "execution_count": 8,
   "metadata": {},
   "outputs": [
    {
     "data": {
      "image/png": "[encoded data removed]",
      "text/plain": [
       "<Figure size 432x288 with 1 Axes>"
      ]
     },
     "metadata": {
      "needs_background": "light"
     },
     "output_type": "display_data"
    }
   ],
   "source": [
    "user_input = \"2021-11-01\"\n",
    "the_user_target_date = df[\"Time stamp\"]>user_input\n",
    "new_df = df[the_user_target_date]\n",
    "posts_in_platforms = new_df[\"Platform\"].value_counts().plot(kind=\"bar\",color=['black', 'red', 'green', 'blue', 'cyan'],title = \"Grouping posts count by social media platform since\" + \" \" + user_input)\n",
    "\n",
    "plt.savefig(\"posts_in_platforms.png\",dpi='figure',\n",
    "        bbox_inches= 'tight', pad_inches=0.1,\n",
    "        facecolor='auto', edgecolor='auto',\n",
    "        backend=None)\n"
   ]
  },
  {
   "cell_type": "code",
   "execution_count": 9,
   "metadata": {},
   "outputs": [],
   "source": [
    "#get rid of nAns in category\n",
    "\n",
    "list = [\"Anti-Zionist\",\n",
    "\"Antisemitic\",\n",
    "\"Non-Antisemitic\"]\n",
    "\n",
    "df = df.loc[df['Category'] .isin(list)]\n",
    "#This line is keeping rows which have one of the categories\n"
   ]
  },
  {
   "cell_type": "markdown",
   "metadata": {},
   "source": [
    "סוג התוכן- גרף עמודות שיפלטר את סוגי התכנים פר הרשת החברתית שמקבלת את הדוח"
   ]
  },
  {
   "cell_type": "code",
   "execution_count": 10,
   "metadata": {},
   "outputs": [
    {
     "data": {
      "image/png": "[encoded data removed]",
      "text/plain": [
       "<Figure size 432x288 with 1 Axes>"
      ]
     },
     "metadata": {
      "needs_background": "light"
     },
     "output_type": "display_data"
    }
   ],
   "source": [
    "\n",
    "df_group_=df.groupby(['Category', 'Platform'])['Platform'].count().unstack('Category').fillna(0).astype(int)\n",
    "categories_per_each_platform = df_group_.plot(kind='barh', stacked=True,mark_right = True ,title = \"Categories in the platforms\")\n",
    "\n",
    "\n",
    "plt.savefig(\"categories_per_each_platform.png\",dpi='figure',\n",
    "        bbox_inches= 'tight', pad_inches=0.1,\n",
    "        facecolor='auto', edgecolor='auto',\n",
    "        backend=None)"
   ]
  },
  {
   "cell_type": "code",
   "execution_count": 11,
   "metadata": {},
   "outputs": [
    {
     "data": {
      "image/png": "[encoded data removed]",
      "text/plain": [
       "<Figure size 432x288 with 1 Axes>"
      ]
     },
     "metadata": {},
     "output_type": "display_data"
    }
   ],
   "source": [
    "#Cheking the percentage of posts removing in general view\n",
    "\n",
    "status = df[\"Removed\"]\n",
    "\n",
    "#df.groupby(\"Category\").agg({status:\"mean\"})\n",
    "\n",
    "category = df[\"Category\"]\n",
    "\n",
    "\n",
    "general_removal_view = status.value_counts() #get general info about the removal process of platforms\n",
    "\n",
    "general_removal_view_plot = general_removal_view.plot(kind = \"pie\" , autopct='%1.0f%%', title = \"How many posts have ever removed?\", textprops={'color':\"w\"}) \n",
    "\n",
    "\n",
    "plt.savefig(\"general_removal_view_plot.png\",dpi='figure',\n",
    "        bbox_inches= 'tight', pad_inches=0.1,\n",
    "        facecolor='auto', edgecolor='auto',\n",
    "        backend=None)"
   ]
  },
  {
   "cell_type": "markdown",
   "metadata": {},
   "source": [
    "נתונים על הסרת התכנים- לפי סוג תוכן (כמה מכל סוג תוכן הוסרו וכמה נשארו)"
   ]
  },
  {
   "cell_type": "code",
   "execution_count": 12,
   "metadata": {},
   "outputs": [
    {
     "data": {
      "text/html": [
       "<div>\n",
       "<style scoped>\n",
       "    .dataframe tbody tr th:only-of-type {\n",
       "        vertical-align: middle;\n",
       "    }\n",
       "\n",
       "    .dataframe tbody tr th {\n",
       "        vertical-align: top;\n",
       "    }\n",
       "\n",
       "    .dataframe thead th {\n",
       "        text-align: right;\n",
       "    }\n",
       "</style>\n",
       "<table border=\"1\" class=\"dataframe\">\n",
       "  <thead>\n",
       "    <tr style=\"text-align: right;\">\n",
       "      <th>Removed</th>\n",
       "      <th>Not Removed</th>\n",
       "      <th>Removed</th>\n",
       "    </tr>\n",
       "    <tr>\n",
       "      <th>Category</th>\n",
       "      <th></th>\n",
       "      <th></th>\n",
       "    </tr>\n",
       "  </thead>\n",
       "  <tbody>\n",
       "    <tr>\n",
       "      <th>Anti-Zionist</th>\n",
       "      <td>9</td>\n",
       "      <td>0</td>\n",
       "    </tr>\n",
       "    <tr>\n",
       "      <th>Antisemitic</th>\n",
       "      <td>207</td>\n",
       "      <td>66</td>\n",
       "    </tr>\n",
       "  </tbody>\n",
       "</table>\n",
       "</div>"
      ],
      "text/plain": [
       "Removed       Not Removed  Removed\n",
       "Category                          \n",
       "Anti-Zionist            9        0\n",
       "Antisemitic           207       66"
      ]
     },
     "execution_count": 12,
     "metadata": {},
     "output_type": "execute_result"
    }
   ],
   "source": [
    "df.groupby(['Category', 'Removed'])['Removed'].count().unstack('Removed').fillna(0).astype(int)\n",
    "\n",
    "#set the columns in chronogical order ##"
   ]
  },
  {
   "cell_type": "code",
   "execution_count": 13,
   "metadata": {},
   "outputs": [],
   "source": [
    "#This function is grouping the DF by the removal status & the category\n",
    "outpot_category_removal_stats= df.groupby(['Removed', 'Category'])['Category'].count().unstack('Category').fillna(0).astype(int).reindex(index = ['Removed','Not Removed'])"
   ]
  },
  {
   "cell_type": "code",
   "execution_count": 14,
   "metadata": {},
   "outputs": [],
   "source": [
    "outpot_category_removal_stats_plot = outpot_category_removal_stats.astype(\"int\")\n",
    "\n",
    "dfi.export(outpot_category_removal_stats_plot,\"outpot_category_removal_stats_plot.png\")\n"
   ]
  },
  {
   "cell_type": "code",
   "execution_count": 15,
   "metadata": {},
   "outputs": [
    {
     "data": {
      "image/png": "[encoded data removed]",
      "text/plain": [
       "<Figure size 432x288 with 1 Axes>"
      ]
     },
     "metadata": {
      "needs_background": "light"
     },
     "output_type": "display_data"
    }
   ],
   "source": [
    "outpot_category_removal_stats_plot = outpot_category_removal_stats.plot(kind='barh', stacked=True,mark_right = True )\n",
    "\n",
    "plt.savefig(\"outpot_category_removal_stats_plot.png\",dpi='figure',\n",
    "        bbox_inches= 'tight', pad_inches=0.1,\n",
    "        facecolor='auto', edgecolor='auto',\n",
    "        backend=None)\n"
   ]
  },
  {
   "cell_type": "markdown",
   "metadata": {},
   "source": [
    "אחוזים לפי כל רשת חברתית - כמה תכנים הוסרו מול כמה נשארו\n"
   ]
  },
  {
   "cell_type": "code",
   "execution_count": 16,
   "metadata": {},
   "outputs": [],
   "source": [
    "outpot_category_removal_stats_by_platform= df.groupby(['Removed', 'Platform'])['Platform'].count().unstack('Platform').fillna(0).astype(int).reindex(index = ['Removed','Not Removed'])"
   ]
  },
  {
   "cell_type": "code",
   "execution_count": 17,
   "metadata": {},
   "outputs": [],
   "source": [
    "precentage_chart = outpot_category_removal_stats_by_platform/outpot_category_removal_stats_by_platform[outpot_category_removal_stats_by_platform.columns].sum()*100\n"
   ]
  },
  {
   "cell_type": "code",
   "execution_count": 18,
   "metadata": {},
   "outputs": [],
   "source": [
    "precentage_chart_plot = precentage_chart.round(1).astype(str) +'%'\n",
    "\n",
    "dfi.export(precentage_chart_plot,\"precentage_chart_plot.png\")\n"
   ]
  },
  {
   "cell_type": "code",
   "execution_count": 19,
   "metadata": {},
   "outputs": [
    {
     "data": {
      "image/png": "[encoded data removed]",
      "text/plain": [
       "<Figure size 1080x504 with 1 Axes>"
      ]
     },
     "metadata": {},
     "output_type": "display_data"
    }
   ],
   "source": [
    "language = df[\"Language\"]\n",
    "\n",
    "pie_chart = df[\"Language\"].value_counts().head(4).plot(kind = \"pie\",figsize=(15, 7),title = \"Posts grouping by language\",autopct='%1.0f%%')\n",
    "\n",
    "\n",
    "plt.savefig(\"sort_by_language.png\",dpi='figure',\n",
    "        bbox_inches= 'tight', pad_inches=0.1,\n",
    "        facecolor='auto', edgecolor='auto',\n",
    "        backend=None)"
   ]
  },
  {
   "cell_type": "markdown",
   "metadata": {},
   "source": [
    "מילות מפתח בתכנים שהוסרו (בלבד)\n",
    "\n"
   ]
  },
  {
   "cell_type": "code",
   "execution_count": 20,
   "metadata": {},
   "outputs": [],
   "source": [
    "#Tokenization process - \n",
    "#1. Lowercasing\n",
    "#2. Translate all words, in any languge - to English\n",
    "#3. Exclude Stop Words\n",
    "#4. Identifaing n-grams\n",
    "#5. Deal with hashtags\n",
    "#6. Word frequency - think about how to deal with terms which appear multiple times via the text"
   ]
  },
  {
   "cell_type": "code",
   "execution_count": 21,
   "metadata": {},
   "outputs": [],
   "source": [
    "posts_description = df[\"A short summary of the content- write briefly in your own words \"]"
   ]
  },
  {
   "cell_type": "code",
   "execution_count": 22,
   "metadata": {},
   "outputs": [],
   "source": [
    "only_removed_content = df[\"Removed\"]!=\"Not Removed\""
   ]
  },
  {
   "cell_type": "code",
   "execution_count": 23,
   "metadata": {},
   "outputs": [],
   "source": [
    "only_removed_content = df[only_removed_content]\n"
   ]
  },
  {
   "cell_type": "code",
   "execution_count": 24,
   "metadata": {},
   "outputs": [],
   "source": [
    "posts_description = only_removed_content[\"A short summary of the content- write briefly in your own words \"]\n"
   ]
  },
  {
   "cell_type": "code",
   "execution_count": 25,
   "metadata": {},
   "outputs": [],
   "source": [
    "\n",
    "posts_description = posts_description.str.lower()"
   ]
  },
  {
   "cell_type": "code",
   "execution_count": 26,
   "metadata": {},
   "outputs": [],
   "source": [
    "posts_description = posts_description.str.replace('[^\\w\\s]','')"
   ]
  },
  {
   "cell_type": "code",
   "execution_count": 27,
   "metadata": {},
   "outputs": [
    {
     "name": "stderr",
     "output_type": "stream",
     "text": [
      "[nltk_data] Downloading package punkt to\n",
      "[nltk_data]     C:\\Users\\zachi\\AppData\\Roaming\\nltk_data...\n",
      "[nltk_data]   Package punkt is already up-to-date!\n",
      "[nltk_data] Downloading package stopwords to\n",
      "[nltk_data]     C:\\Users\\zachi\\AppData\\Roaming\\nltk_data...\n",
      "[nltk_data]   Package stopwords is already up-to-date!\n"
     ]
    },
    {
     "data": {
      "text/plain": [
       "True"
      ]
     },
     "execution_count": 27,
     "metadata": {},
     "output_type": "execute_result"
    }
   ],
   "source": [
    "import nltk\n",
    "nltk.download('punkt')\n",
    "from nltk import word_tokenize,sent_tokenize\n",
    "nltk.download('stopwords')"
   ]
  },
  {
   "cell_type": "code",
   "execution_count": 28,
   "metadata": {},
   "outputs": [],
   "source": [
    "stop = stopwords.words('english')\n",
    "new_list=[\"picture\",\"video\",\"pic\",\"cartoon\",\"photo\",\"int\",\"dtype\",\"Claiming\",\"claiming\",\"dtype\",\"int64\",\" int64\"]\n",
    "stop.extend(new_list)\n",
    "\n",
    "desc_column_without_sw = posts_description.apply(lambda x: ' '.join([word for word in x.split() if word not in (stop)]))\n"
   ]
  },
  {
   "cell_type": "code",
   "execution_count": 29,
   "metadata": {},
   "outputs": [],
   "source": [
    "from collections import Counter\n"
   ]
  },
  {
   "cell_type": "code",
   "execution_count": 30,
   "metadata": {},
   "outputs": [
    {
     "data": {
      "text/plain": [
       "jews            55\n",
       "control          7\n",
       "jewish           6\n",
       "genocide         6\n",
       "claims           6\n",
       "hitler           4\n",
       "anti             4\n",
       "blaming          4\n",
       "jew              4\n",
       "ppl              4\n",
       "antisemitism     4\n",
       "world            4\n",
       "media            3\n",
       "planning         3\n",
       "government       3\n",
       "dtype: int64"
      ]
     },
     "execution_count": 30,
     "metadata": {},
     "output_type": "execute_result"
    }
   ],
   "source": [
    "desc_column_without_sw = pd.Series(' '.join(desc_column_without_sw).split()).value_counts()[:15]\n",
    "desc_column_without_sw\n",
    "\n"
   ]
  },
  {
   "cell_type": "code",
   "execution_count": 31,
   "metadata": {},
   "outputs": [],
   "source": [
    "from wordcloud import WordCloud, STOPWORDS, ImageColorGenerator\n"
   ]
  },
  {
   "cell_type": "code",
   "execution_count": 32,
   "metadata": {},
   "outputs": [
    {
     "data": {
      "image/png": "[encoded data removed]",
      "text/plain": [
       "<Figure size 432x288 with 1 Axes>"
      ]
     },
     "metadata": {
      "needs_background": "light"
     },
     "output_type": "display_data"
    }
   ],
   "source": [
    "wordcloud = WordCloud(collocations = False, background_color = 'white').generate(str(desc_column_without_sw))\n",
    "\n",
    "plt.imshow(wordcloud)\n",
    "plt.axis(\"off\")\n",
    "\n",
    "\n",
    "plt.savefig(\"wordcloud.png\",dpi='figure',\n",
    "        bbox_inches= 'tight', pad_inches=0.1,\n",
    "        facecolor='auto', edgecolor='auto',\n",
    "        backend=None)"
   ]
  },
  {
   "cell_type": "code",
   "execution_count": 33,
   "metadata": {},
   "outputs": [
    {
     "data": {
      "text/plain": [
       "''"
      ]
     },
     "execution_count": 33,
     "metadata": {},
     "output_type": "execute_result"
    }
   ],
   "source": [
    "from matplotlib.backends.backend_pdf import PdfPages\n",
    "from fpdf import FPDF\n",
    "\n",
    "\n",
    "pdf = FPDF()\n",
    "\n",
    "pdf.add_page()\n",
    "\n",
    "pdf.set_font('Arial', size = 16)\n",
    "\n",
    "pdf.cell(40)\n",
    "\n",
    "pdf.cell(75, 10,'Inner report', 0, 2, 'C')\n",
    "\n",
    "pdf.cell(90, 10, '', 0, 2, 'C')\n",
    "pdf.cell(-20)\n",
    "\n",
    "pdf.image(\"posts_in_platforms.png\")\n",
    "\n",
    "pdf.cell(90, 10, '', 0, 2, 'C')\n",
    "pdf.cell(-20)\n",
    "\n",
    "\n",
    "pdf.image(\"sort_by_language.png\")\n",
    "\n",
    "pdf.cell(90, 10, '', 0, 2, 'C')\n",
    "pdf.cell(10)\n",
    "\n",
    "pdf.image(\"categories_per_each_platform.png\")\n",
    "\n",
    "pdf.cell(90, 10, '', 0, 2, 'C')\n",
    "pdf.cell(10)\n",
    "\n",
    "pdf.image(\"general_removal_view_plot.png\")\n",
    "\n",
    "pdf.cell(90, 10, '', 0, 2, 'C')\n",
    "pdf.cell(5)\n",
    "\n",
    "pdf.image(\"outpot_category_removal_stats_plot.png\")\n",
    "\n",
    "pdf.cell(100, 10, '', 0, 2, 'C')\n",
    "pdf.cell(-14)\n",
    "\n",
    "pdf.image(\"precentage_chart_plot.png\")\n",
    "\n",
    "pdf.cell(90, 10, '', 0, 2, 'C')\n",
    "pdf.cell(20)\n",
    "\n",
    "pdf.image(\"wordcloud.png\")\n",
    "\n",
    "pdf.output(\"Inner report.pdf\")\n",
    "\n"
   ]
  }
 ],
 "metadata": {
  "colab": {
   "authorship_tag": "ABX9TyORyOIsMUUQZaq6nKgEiI05",
   "mount_file_id": "19OkiW4PWYWLjvDKQR65je-eY8Kw1J7oF",
   "name": "Code_for_final_project_excel.ipynb",
   "provenance": []
  },
  "kernelspec": {
   "display_name": "Python 3",
   "language": "python",
   "name": "python3"
  },
  "language_info": {
   "codemirror_mode": {
    "name": "ipython",
    "version": 3
   },
   "file_extension": ".py",
   "mimetype": "text/x-python",
   "name": "python",
   "nbconvert_exporter": "python",
   "pygments_lexer": "ipython3",
   "version": "3.8.8"
  }
 },
 "nbformat": 4,
 "nbformat_minor": 4
}
