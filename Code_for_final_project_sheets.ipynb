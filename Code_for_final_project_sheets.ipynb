{
 "cells": [
  {
   "cell_type": "code",
   "execution_count": 2,
   "metadata": {
    "colab": {
     "base_uri": "https://localhost:8080/",
     "height": 1000
    },
    "executionInfo": {
     "elapsed": 1609,
     "status": "ok",
     "timestamp": 1636580718301,
     "user": {
      "displayName": "Yzhak Bakshi",
      "photoUrl": "https://lh3.googleusercontent.com/a/default-user=s64",
      "userId": "00749914597825425916"
     },
     "user_tz": -120
    },
    "id": "GuMF5u8ccr2c",
    "outputId": "9fd98ca7-349a-43f6-ceaa-951cc0ffdeb5"
   },
   "outputs": [],
   "source": [
    "from googleapiclient.discovery import build\n",
    "from google.oauth2.credentials import Credentials\n",
    "from google.oauth2 import service_account\n",
    "\n",
    "SERVICE_ACCOUNT_FILE = 'first_call.json'\n",
    "SCOPES = ['https://www.googleapis.com/auth/spreadsheets.readonly']\n",
    "\n",
    "creds = None\n",
    "creds = service_account.Credentials.from_service_account_file(\n",
    "        SERVICE_ACCOUNT_FILE, scopes=SCOPES)\n",
    "\n",
    "\n",
    "# The ID and range of a sample spreadsheet.\n",
    "SAMPLE_SPREADSHEET_ID = '18X-zRp1mvsZQoIFuy4pC8mdq1jQnpXR_NWYar8Pgi_Y'\n",
    "\n",
    "  \n",
    "service = build('sheets', 'v4', credentials=creds)\n",
    "\n",
    "# Call the Sheets API\n",
    "sheet = service.spreadsheets()\n",
    "result = sheet.values().get(spreadsheetId=SAMPLE_SPREADSHEET_ID,\n",
    "                                range=\"Sheet1!A1:Q302\").execute()\n",
    "values = result.get('values', [])\n",
    "\n",
    "import pandas as pd\n",
    "\n",
    "df = pd.DataFrame(data=values)\n",
    "\n"
   ]
  },
  {
   "cell_type": "code",
   "execution_count": null,
   "metadata": {},
   "outputs": [],
   "source": []
  },
  {
   "cell_type": "code",
   "execution_count": null,
   "metadata": {},
   "outputs": [],
   "source": []
  }
 ],
 "metadata": {
  "colab": {
   "authorship_tag": "ABX9TyOjVRwncVwZvrpCWP7mhQCG",
   "mount_file_id": "13zfA44Zj7-dxRUtbOkvlAR1c8-vx8HfV",
   "name": "Codeforfinalproject.ipynb",
   "provenance": []
  },
  "kernelspec": {
   "display_name": "Python 3",
   "language": "python",
   "name": "python3"
  },
  "language_info": {
   "codemirror_mode": {
    "name": "ipython",
    "version": 3
   },
   "file_extension": ".py",
   "mimetype": "text/x-python",
   "name": "python",
   "nbconvert_exporter": "python",
   "pygments_lexer": "ipython3",
   "version": "3.8.8"
  }
 },
 "nbformat": 4,
 "nbformat_minor": 4
}
