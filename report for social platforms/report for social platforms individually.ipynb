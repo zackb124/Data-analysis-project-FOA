{
 "cells": [
  {
   "cell_type": "code",
   "execution_count": 21,
   "metadata": {},
   "outputs": [],
   "source": [
    "import pandas as pd\n",
    "import matplotlib.pyplot as plt\n",
    "\n",
    "%matplotlib inline\n",
    "import dataframe_image as dfi\n",
    "#Dependencies\n",
    "import gensim #the library for Topic modelling\n",
    "from gensim.models.ldamulticore import LdaMulticore\n",
    "from gensim import corpora, models\n",
    "\n",
    "from nltk.corpus import stopwords\n",
    "import string\n",
    "from nltk.stem.wordnet import WordNetLemmatizer\n",
    "\n"
   ]
  },
  {
   "cell_type": "code",
   "execution_count": 22,
   "metadata": {},
   "outputs": [],
   "source": [
    "from main_function_social import clean_data"
   ]
  },
  {
   "cell_type": "code",
   "execution_count": 23,
   "metadata": {},
   "outputs": [
    {
     "name": "stderr",
     "output_type": "stream",
     "text": [
      "c:\\Users\\zachi\\FOA-TAU-Data-analysis-project\\report for social platforms\\main_function_social.py:29: FutureWarning: The default value of regex will change from True to False in a future version.\n",
      "  posts_description=posts_description.str.lower().str.replace('[^\\w\\s]','')\n"
     ]
    }
   ],
   "source": [
    "xl = \"C:\\\\Users\\\\zachi\\\\Desktop\\\\final_project_22\\\\data_nov_21.xlsx\"\n",
    "\n",
    "month = 'November'\n",
    "\n",
    "platform = \"Twitter\"\n",
    "\n",
    "new_df = clean_data (xl,month,platform)\n",
    "\n"
   ]
  },
  {
   "cell_type": "code",
   "execution_count": 24,
   "metadata": {
    "colab": {
     "base_uri": "https://localhost:8080/",
     "height": 1000
    },
    "executionInfo": {
     "elapsed": 319,
     "status": "ok",
     "timestamp": 1636727908528,
     "user": {
      "displayName": "Yzhak Bakshi",
      "photoUrl": "https://lh3.googleusercontent.com/a/default-user=s64",
      "userId": "00749914597825425916"
     },
     "user_tz": -120
    },
    "id": "-7pEdzH31cck",
    "outputId": "893e17b4-ae67-4f8a-c0bd-24a7d21007ca"
   },
   "outputs": [
    {
     "data": {
      "image/png": "[encoded data removed]",
      "text/plain": [
       "<Figure size 432x288 with 1 Axes>"
      ]
     },
     "metadata": {
      "needs_background": "light"
     },
     "output_type": "display_data"
    }
   ],
   "source": [
    "#Plot the categories data\n",
    "df_selection = new_df\n",
    "post_count_by_category_plot = df_selection['Category'].value_counts().plot(kind='bar')#, title = \"Posts category of\" + user_selection)\n",
    "\n",
    "plt.savefig(\"post_count_by_category_plot_specific.png\",dpi='figure',\n",
    "        bbox_inches= 'tight', pad_inches=0.1,\n",
    "        facecolor='auto', edgecolor='auto',\n",
    "        backend=None)"
   ]
  },
  {
   "cell_type": "code",
   "execution_count": 25,
   "metadata": {},
   "outputs": [
    {
     "data": {
      "image/png": "[encoded data removed]",
      "text/plain": [
       "<Figure size 432x288 with 1 Axes>"
      ]
     },
     "metadata": {},
     "output_type": "display_data"
    }
   ],
   "source": [
    "#Cheking the percentage of posts removing in general view\n",
    "\n",
    "status = df_selection[\"Removed\"]\n",
    "\n",
    "general_removal_view = status.value_counts() #get general info about the removal process of platforms\n",
    "\n",
    "removal_posts_statistics_plot = general_removal_view.plot(kind = \"pie\" , autopct='%1.0f%%', title = \"How many posts have ever been removed?\") \n",
    "\n",
    "removal_posts_statistics_plot.get_yaxis().set_visible(False)\n",
    "\n",
    "plt.savefig(\"removal_posts_statistics_plot.png\",dpi='figure',\n",
    "        bbox_inches= 'tight', pad_inches=0.1,\n",
    "        facecolor='auto', edgecolor='auto',\n",
    "        backend=None)\n",
    "\n"
   ]
  },
  {
   "cell_type": "code",
   "execution_count": 26,
   "metadata": {},
   "outputs": [],
   "source": [
    "\n",
    "outpot_category_removal_stats= df_selection.groupby(['Removed', 'Category'])['Category'].count().unstack('Category').fillna(0).astype(int).reindex(index = ['Removed', 'Not Removed'])\n",
    "outpot_category_removal_stats = outpot_category_removal_stats.astype(\"int\")\n",
    "\n",
    "dfi.export(outpot_category_removal_stats,\"outpot_category_removal_stats.png\")\n"
   ]
  },
  {
   "cell_type": "code",
   "execution_count": 27,
   "metadata": {},
   "outputs": [],
   "source": [
    "#Gropping the data by removal status + platform and plot a percentage summary of the data\n",
    "\n",
    "\n",
    "precentage_chart = outpot_category_removal_stats/outpot_category_removal_stats[outpot_category_removal_stats.columns].sum()*100\n",
    "\n",
    "precentage_chart_plot = precentage_chart.round(1).astype(str) +'%'\n",
    "\n",
    "dfi.export(precentage_chart_plot,\"precentage_chart_plot.png\")\n",
    "\n"
   ]
  },
  {
   "cell_type": "code",
   "execution_count": 28,
   "metadata": {},
   "outputs": [],
   "source": [
    "\n",
    "from matplotlib.backends.backend_pdf import PdfPages\n",
    "from fpdf import FPDF\n",
    "\n",
    "\n",
    "pdf = FPDF()\n",
    "\n",
    "pdf.add_page()\n",
    "\n",
    "pdf.set_font('Arial', size = 16)\n",
    "\n",
    "pdf.cell(40)\n",
    "\n",
    "pdf.cell(75, 10,'Report for' + \" \"+ platform + \" \" + 'during' + \" \" + month, 0, 2, 'C')\n",
    "\n",
    "pdf.cell(90, 10, '', 0, 2, 'C')\n",
    "pdf.cell(-20)\n",
    "\n",
    "pdf.image(\"post_count_by_category_plot_specific.png\")\n",
    "\n",
    "pdf.cell(90, 10, '', 0, 2, 'C')\n",
    "pdf.cell(5)\n",
    "\n",
    "pdf.cell(90, 10, '', 0, 2, 'C')\n",
    "pdf.cell(5)\n",
    "\n",
    "pdf.cell(90, 10, '', 0, 2, 'C')\n",
    "pdf.cell(5)\n",
    "\n",
    "pdf.image(\"removal_posts_statistics_plot.png\")\n",
    "\n",
    "pdf.cell(90, 10, '', 0, 2, 'C')\n",
    "pdf.cell(5)\n",
    "\n",
    "pdf.cell(90, 10, '', 0, 2, 'C')\n",
    "pdf.cell(5)\n",
    "\n",
    "pdf.cell(90, 10, '', 0, 2, 'C')\n",
    "pdf.cell(5)\n",
    "\n",
    "pdf.image(\"outpot_category_removal_stats.png\")\n",
    "\n",
    "\n",
    "pdf.cell(90, 10, '', 0, 2, 'C')\n",
    "pdf.cell(1)\n",
    "\n",
    "pdf.cell(90, 10, '', 0, 2, 'C')\n",
    "pdf.cell(1)\n",
    "\n",
    "pdf.cell(90, 10, '', 0, 2, 'C')\n",
    "pdf.cell(1)\n",
    "\n",
    "\n",
    "pdf.image(\"precentage_chart_plot.png\")\n",
    "\n",
    "\n",
    "\n",
    "pdf.output(\"Report for social media platforms individually.pdf\")\n",
    "\n",
    "\n",
    "os.startfile(\"Report for social media platforms individually.pdf\")\n"
   ]
  },
  {
   "cell_type": "code",
   "execution_count": null,
   "metadata": {},
   "outputs": [],
   "source": []
  }
 ],
 "metadata": {
  "colab": {
   "authorship_tag": "ABX9TyORyOIsMUUQZaq6nKgEiI05",
   "mount_file_id": "19OkiW4PWYWLjvDKQR65je-eY8Kw1J7oF",
   "name": "Code_for_final_project_excel.ipynb",
   "provenance": []
  },
  "kernelspec": {
   "display_name": "Python 3",
   "language": "python",
   "name": "python3"
  },
  "language_info": {
   "codemirror_mode": {
    "name": "ipython",
    "version": 3
   },
   "file_extension": ".py",
   "mimetype": "text/x-python",
   "name": "python",
   "nbconvert_exporter": "python",
   "pygments_lexer": "ipython3",
   "version": "3.8.8"
  }
 },
 "nbformat": 4,
 "nbformat_minor": 4
}
