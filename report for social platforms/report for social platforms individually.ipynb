{
 "cells": [
  {
   "cell_type": "code",
   "execution_count": 15,
   "metadata": {},
   "outputs": [],
   "source": [
    "import pandas as pd\n",
    "import io\n",
    "#Dependencies\n",
    "from varname import nameof\n",
    "%matplotlib inline\n",
    "import dataframe_image as dfi\n",
    "import matplotlib.pyplot as plt\n",
    "%matplotlib inline\n",
    "\n",
    "from nltk.corpus import stopwords\n",
    "import string\n",
    "from nltk.stem.wordnet import WordNetLemmatizer\n",
    "\n",
    "import warnings\n",
    "warnings.simplefilter('ignore')\n",
    "from itertools import chain\n",
    "\n",
    "\n",
    "#123\n",
    "\n",
    "df=pd.read_excel('Example for data base.xlsx')\n",
    "df = df.rename(columns={\"חותמת זמן\":\"Time stamp\"})\n",
    "df=df.replace({'Category' : { 'Y' : \"Antisemitic\", 'W' : \"Non-Antisemitic\", 'U' : \"Anti-Zionist\" }})\n",
    "\n",
    "df[\"Removed 1\"]=df[\"Removed 1\"].astype(\"str\") \n",
    "\n",
    "def convert_to_category_remove_1(symbol):\n",
    "    for letter in symbol:\n",
    "        if letter == \"X\":\n",
    "            return \"Never\"\n",
    "        elif letter == \"V\":\n",
    "            return \"Second appeal\"\n",
    "        else:\n",
    "            return \"First appeal\"\n",
    "\n",
    "df[\"Post status\"] = df[\"Removed 1\"].apply(convert_to_category_remove_1)\n",
    "\n",
    "status = df[\"Post status\"]\n",
    "\n",
    "\n",
    "list = [\"Anti-Zionist\",\n",
    "\"Antisemitic\",\n",
    "\"Non-Antisemitic\"]\n",
    "\n",
    "df = df.loc[df['Category'] .isin(list)]\n"
   ]
  },
  {
   "cell_type": "code",
   "execution_count": 16,
   "metadata": {
    "colab": {
     "base_uri": "https://localhost:8080/",
     "height": 1000
    },
    "executionInfo": {
     "elapsed": 319,
     "status": "ok",
     "timestamp": 1636727908528,
     "user": {
      "displayName": "Yzhak Bakshi",
      "photoUrl": "https://lh3.googleusercontent.com/a/default-user=s64",
      "userId": "00749914597825425916"
     },
     "user_tz": -120
    },
    "id": "-7pEdzH31cck",
    "outputId": "893e17b4-ae67-4f8a-c0bd-24a7d21007ca"
   },
   "outputs": [
    {
     "data": {
      "image/png": "[encoded data removed]",
      "text/plain": [
       "<Figure size 432x288 with 1 Axes>"
      ]
     },
     "metadata": {
      "needs_background": "light"
     },
     "output_type": "display_data"
    }
   ],
   "source": [
    "#Type of content in each social media platform\n",
    "\n",
    "#Define each social platform\n",
    "Instagram = df[\"Platform\"]==\"Instagram\"\n",
    "Twitter = df[\"Platform\"]==\"Twitter\"\n",
    "Facebook = df[\"Platform\"]==\"Facebook\"\n",
    "TikTok = df[\"Platform\"]==\"Tik Tok\"\n",
    "Youtube = df[\"Platform\"]==\"Youtube\"\n",
    "\n",
    "#User input\n",
    "user_selection = Instagram\n",
    "\n",
    "#Plot the categories data\n",
    "df_selection = df[user_selection]\n",
    "post_count_by_category_plot = df_selection['Category'].value_counts().plot(kind='bar', title = \"\")\n",
    "\n",
    "plt.savefig(\"post_count_by_category_plot_specific.png\",dpi='figure',\n",
    "        bbox_inches= 'tight', pad_inches=0.1,\n",
    "        facecolor='auto', edgecolor='auto',\n",
    "        backend=None)"
   ]
  },
  {
   "cell_type": "code",
   "execution_count": 17,
   "metadata": {},
   "outputs": [
    {
     "data": {
      "image/png": "[encoded data removed]",
      "text/plain": [
       "<Figure size 432x288 with 1 Axes>"
      ]
     },
     "metadata": {},
     "output_type": "display_data"
    }
   ],
   "source": [
    "#Cheking the percentage of posts removing in general view\n",
    "\n",
    "status = df_selection[\"Post status\"]\n",
    "\n",
    "general_removal_view = status.value_counts() #get general info about the removal process of platforms\n",
    "\n",
    "removal_posts_statistics_plot = general_removal_view.plot(kind = \"pie\" , autopct='%1.0f%%', title = \"How many posts removed in 1st, 2nd time or never?\") \n",
    "\n",
    "\n",
    "plt.savefig(\"removal_posts_statistics_plot.png\",dpi='figure',\n",
    "        bbox_inches= 'tight', pad_inches=0.1,\n",
    "        facecolor='auto', edgecolor='auto',\n",
    "        backend=None)\n",
    "\n"
   ]
  },
  {
   "cell_type": "code",
   "execution_count": 18,
   "metadata": {},
   "outputs": [
    {
     "name": "stdout",
     "output_type": "stream",
     "text": [
      "Non-removed content - although recognized as antisemitic\n"
     ]
    }
   ],
   "source": [
    "#תכנים שלא הוסרו למרות שקוטלגו כאנטישמיים לפי רשת\n",
    "\n",
    "outpot_category_removal_stats= df_selection.groupby(['Post status', 'Category'])['Category'].count().unstack('Category').fillna(0).astype(int).reindex(index = ['First appeal','Second appeal','Never'])\n",
    "outpot_category_removal_stats = outpot_category_removal_stats.astype(\"int\")\n",
    "print (\"Non-removed content - although recognized as antisemitic\")\n",
    "\n",
    "dfi.export(outpot_category_removal_stats,\"outpot_category_removal_stats.png\")\n"
   ]
  },
  {
   "cell_type": "code",
   "execution_count": 23,
   "metadata": {},
   "outputs": [
    {
     "data": {
      "text/plain": [
       "''"
      ]
     },
     "execution_count": 23,
     "metadata": {},
     "output_type": "execute_result"
    }
   ],
   "source": [
    "\n",
    "from matplotlib.backends.backend_pdf import PdfPages\n",
    "from fpdf import FPDF\n",
    "\n",
    "\n",
    "pdf = FPDF()\n",
    "\n",
    "pdf.add_page()\n",
    "\n",
    "pdf.set_font('Arial', size = 16)\n",
    "\n",
    "pdf.cell(40)\n",
    "\n",
    "pdf.cell(75, 10,'Report for' + \" \"+ nameof(user_selection) , 0, 2, 'C')\n",
    "\n",
    "pdf.cell(90, 10, '', 0, 2, 'C')\n",
    "pdf.cell(-20)\n",
    "\n",
    "pdf.image(\"post_count_by_category_plot_specific.png\")\n",
    "\n",
    "pdf.cell(90, 10, '', 0, 2, 'C')\n",
    "pdf.cell(20)\n",
    "\n",
    "\n",
    "pdf.image(\"removal_posts_statistics_plot.png\")\n",
    "\n",
    "pdf.cell(90, 10, '', 0, 2, 'C')\n",
    "pdf.cell(-20)\n",
    "\n",
    "pdf.image(\"outpot_category_removal_stats.png\")\n",
    "\n",
    "\n",
    "pdf.output(\"Report for social media platforms individually.pdf\")"
   ]
  },
  {
   "cell_type": "code",
   "execution_count": null,
   "metadata": {},
   "outputs": [],
   "source": []
  }
 ],
 "metadata": {
  "colab": {
   "authorship_tag": "ABX9TyORyOIsMUUQZaq6nKgEiI05",
   "mount_file_id": "19OkiW4PWYWLjvDKQR65je-eY8Kw1J7oF",
   "name": "Code_for_final_project_excel.ipynb",
   "provenance": []
  },
  "kernelspec": {
   "display_name": "Python 3",
   "language": "python",
   "name": "python3"
  },
  "language_info": {
   "codemirror_mode": {
    "name": "ipython",
    "version": 3
   },
   "file_extension": ".py",
   "mimetype": "text/x-python",
   "name": "python",
   "nbconvert_exporter": "python",
   "pygments_lexer": "ipython3",
   "version": "3.8.8"
  }
 },
 "nbformat": 4,
 "nbformat_minor": 4
}
